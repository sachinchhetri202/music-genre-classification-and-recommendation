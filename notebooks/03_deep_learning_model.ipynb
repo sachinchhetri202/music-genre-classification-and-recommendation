{
 "cells": [
  {
   "cell_type": "code",
   "execution_count": null,
   "metadata": {
    "colab": {
     "base_uri": "https://localhost:8080/"
    },
    "id": "_q0Mmam-pAVM",
    "outputId": "1bb4203e-f208-4c19-d843-97e97f3e5a34"
   },
   "outputs": [
    {
     "name": "stdout",
     "output_type": "stream",
     "text": [
      "Requirement already satisfied: torch in /usr/local/lib/python3.11/dist-packages (2.6.0+cu124)\n",
      "Requirement already satisfied: torchvision in /usr/local/lib/python3.11/dist-packages (0.21.0+cu124)\n",
      "Requirement already satisfied: torchaudio in /usr/local/lib/python3.11/dist-packages (2.6.0+cu124)\n",
      "Collecting pytorch-lightning\n",
      "  Downloading pytorch_lightning-2.5.1-py3-none-any.whl.metadata (20 kB)\n",
      "Requirement already satisfied: scikit-learn in /usr/local/lib/python3.11/dist-packages (1.6.1)\n",
      "Requirement already satisfied: pandas in /usr/local/lib/python3.11/dist-packages (2.2.2)\n",
      "Requirement already satisfied: soundfile in /usr/local/lib/python3.11/dist-packages (0.13.1)\n",
      "Requirement already satisfied: tensorboard in /usr/local/lib/python3.11/dist-packages (2.18.0)\n",
      "Collecting tensorboardX\n",
      "  Downloading tensorboardX-2.6.2.2-py2.py3-none-any.whl.metadata (5.8 kB)\n",
      "Requirement already satisfied: filelock in /usr/local/lib/python3.11/dist-packages (from torch) (3.18.0)\n",
      "Requirement already satisfied: typing-extensions>=4.10.0 in /usr/local/lib/python3.11/dist-packages (from torch) (4.13.2)\n",
      "Requirement already satisfied: networkx in /usr/local/lib/python3.11/dist-packages (from torch) (3.4.2)\n",
      "Requirement already satisfied: jinja2 in /usr/local/lib/python3.11/dist-packages (from torch) (3.1.6)\n",
      "Requirement already satisfied: fsspec in /usr/local/lib/python3.11/dist-packages (from torch) (2025.3.2)\n",
      "Collecting nvidia-cuda-nvrtc-cu12==12.4.127 (from torch)\n",
      "  Downloading nvidia_cuda_nvrtc_cu12-12.4.127-py3-none-manylinux2014_x86_64.whl.metadata (1.5 kB)\n",
      "Collecting nvidia-cuda-runtime-cu12==12.4.127 (from torch)\n",
      "  Downloading nvidia_cuda_runtime_cu12-12.4.127-py3-none-manylinux2014_x86_64.whl.metadata (1.5 kB)\n",
      "Collecting nvidia-cuda-cupti-cu12==12.4.127 (from torch)\n",
      "  Downloading nvidia_cuda_cupti_cu12-12.4.127-py3-none-manylinux2014_x86_64.whl.metadata (1.6 kB)\n",
      "Collecting nvidia-cudnn-cu12==9.1.0.70 (from torch)\n",
      "  Downloading nvidia_cudnn_cu12-9.1.0.70-py3-none-manylinux2014_x86_64.whl.metadata (1.6 kB)\n",
      "Collecting nvidia-cublas-cu12==12.4.5.8 (from torch)\n",
      "  Downloading nvidia_cublas_cu12-12.4.5.8-py3-none-manylinux2014_x86_64.whl.metadata (1.5 kB)\n",
      "Collecting nvidia-cufft-cu12==11.2.1.3 (from torch)\n",
      "  Downloading nvidia_cufft_cu12-11.2.1.3-py3-none-manylinux2014_x86_64.whl.metadata (1.5 kB)\n",
      "Collecting nvidia-curand-cu12==10.3.5.147 (from torch)\n",
      "  Downloading nvidia_curand_cu12-10.3.5.147-py3-none-manylinux2014_x86_64.whl.metadata (1.5 kB)\n",
      "Collecting nvidia-cusolver-cu12==11.6.1.9 (from torch)\n",
      "  Downloading nvidia_cusolver_cu12-11.6.1.9-py3-none-manylinux2014_x86_64.whl.metadata (1.6 kB)\n",
      "Collecting nvidia-cusparse-cu12==12.3.1.170 (from torch)\n",
      "  Downloading nvidia_cusparse_cu12-12.3.1.170-py3-none-manylinux2014_x86_64.whl.metadata (1.6 kB)\n",
      "Requirement already satisfied: nvidia-cusparselt-cu12==0.6.2 in /usr/local/lib/python3.11/dist-packages (from torch) (0.6.2)\n",
      "Requirement already satisfied: nvidia-nccl-cu12==2.21.5 in /usr/local/lib/python3.11/dist-packages (from torch) (2.21.5)\n",
      "Requirement already satisfied: nvidia-nvtx-cu12==12.4.127 in /usr/local/lib/python3.11/dist-packages (from torch) (12.4.127)\n",
      "Collecting nvidia-nvjitlink-cu12==12.4.127 (from torch)\n",
      "  Downloading nvidia_nvjitlink_cu12-12.4.127-py3-none-manylinux2014_x86_64.whl.metadata (1.5 kB)\n",
      "Requirement already satisfied: triton==3.2.0 in /usr/local/lib/python3.11/dist-packages (from torch) (3.2.0)\n",
      "Requirement already satisfied: sympy==1.13.1 in /usr/local/lib/python3.11/dist-packages (from torch) (1.13.1)\n",
      "Requirement already satisfied: mpmath<1.4,>=1.1.0 in /usr/local/lib/python3.11/dist-packages (from sympy==1.13.1->torch) (1.3.0)\n",
      "Requirement already satisfied: numpy in /usr/local/lib/python3.11/dist-packages (from torchvision) (2.0.2)\n",
      "Requirement already satisfied: pillow!=8.3.*,>=5.3.0 in /usr/local/lib/python3.11/dist-packages (from torchvision) (11.1.0)\n",
      "Requirement already satisfied: tqdm>=4.57.0 in /usr/local/lib/python3.11/dist-packages (from pytorch-lightning) (4.67.1)\n",
      "Requirement already satisfied: PyYAML>=5.4 in /usr/local/lib/python3.11/dist-packages (from pytorch-lightning) (6.0.2)\n",
      "Collecting torchmetrics>=0.7.0 (from pytorch-lightning)\n",
      "  Downloading torchmetrics-1.7.1-py3-none-any.whl.metadata (21 kB)\n",
      "Requirement already satisfied: packaging>=20.0 in /usr/local/lib/python3.11/dist-packages (from pytorch-lightning) (24.2)\n",
      "Collecting lightning-utilities>=0.10.0 (from pytorch-lightning)\n",
      "  Downloading lightning_utilities-0.14.3-py3-none-any.whl.metadata (5.6 kB)\n",
      "Requirement already satisfied: scipy>=1.6.0 in /usr/local/lib/python3.11/dist-packages (from scikit-learn) (1.14.1)\n",
      "Requirement already satisfied: joblib>=1.2.0 in /usr/local/lib/python3.11/dist-packages (from scikit-learn) (1.4.2)\n",
      "Requirement already satisfied: threadpoolctl>=3.1.0 in /usr/local/lib/python3.11/dist-packages (from scikit-learn) (3.6.0)\n",
      "Requirement already satisfied: python-dateutil>=2.8.2 in /usr/local/lib/python3.11/dist-packages (from pandas) (2.8.2)\n",
      "Requirement already satisfied: pytz>=2020.1 in /usr/local/lib/python3.11/dist-packages (from pandas) (2025.2)\n",
      "Requirement already satisfied: tzdata>=2022.7 in /usr/local/lib/python3.11/dist-packages (from pandas) (2025.2)\n",
      "Requirement already satisfied: cffi>=1.0 in /usr/local/lib/python3.11/dist-packages (from soundfile) (1.17.1)\n",
      "Requirement already satisfied: absl-py>=0.4 in /usr/local/lib/python3.11/dist-packages (from tensorboard) (1.4.0)\n",
      "Requirement already satisfied: grpcio>=1.48.2 in /usr/local/lib/python3.11/dist-packages (from tensorboard) (1.71.0)\n",
      "Requirement already satisfied: markdown>=2.6.8 in /usr/local/lib/python3.11/dist-packages (from tensorboard) (3.8)\n",
      "Requirement already satisfied: protobuf!=4.24.0,>=3.19.6 in /usr/local/lib/python3.11/dist-packages (from tensorboard) (5.29.4)\n",
      "Requirement already satisfied: setuptools>=41.0.0 in /usr/local/lib/python3.11/dist-packages (from tensorboard) (75.2.0)\n",
      "Requirement already satisfied: six>1.9 in /usr/local/lib/python3.11/dist-packages (from tensorboard) (1.17.0)\n",
      "Requirement already satisfied: tensorboard-data-server<0.8.0,>=0.7.0 in /usr/local/lib/python3.11/dist-packages (from tensorboard) (0.7.2)\n",
      "Requirement already satisfied: werkzeug>=1.0.1 in /usr/local/lib/python3.11/dist-packages (from tensorboard) (3.1.3)\n",
      "Requirement already satisfied: pycparser in /usr/local/lib/python3.11/dist-packages (from cffi>=1.0->soundfile) (2.22)\n",
      "Requirement already satisfied: aiohttp!=4.0.0a0,!=4.0.0a1 in /usr/local/lib/python3.11/dist-packages (from fsspec[http]>=2022.5.0->pytorch-lightning) (3.11.15)\n",
      "Requirement already satisfied: MarkupSafe>=2.1.1 in /usr/local/lib/python3.11/dist-packages (from werkzeug>=1.0.1->tensorboard) (3.0.2)\n",
      "Requirement already satisfied: aiohappyeyeballs>=2.3.0 in /usr/local/lib/python3.11/dist-packages (from aiohttp!=4.0.0a0,!=4.0.0a1->fsspec[http]>=2022.5.0->pytorch-lightning) (2.6.1)\n",
      "Requirement already satisfied: aiosignal>=1.1.2 in /usr/local/lib/python3.11/dist-packages (from aiohttp!=4.0.0a0,!=4.0.0a1->fsspec[http]>=2022.5.0->pytorch-lightning) (1.3.2)\n",
      "Requirement already satisfied: attrs>=17.3.0 in /usr/local/lib/python3.11/dist-packages (from aiohttp!=4.0.0a0,!=4.0.0a1->fsspec[http]>=2022.5.0->pytorch-lightning) (25.3.0)\n",
      "Requirement already satisfied: frozenlist>=1.1.1 in /usr/local/lib/python3.11/dist-packages (from aiohttp!=4.0.0a0,!=4.0.0a1->fsspec[http]>=2022.5.0->pytorch-lightning) (1.5.0)\n",
      "Requirement already satisfied: multidict<7.0,>=4.5 in /usr/local/lib/python3.11/dist-packages (from aiohttp!=4.0.0a0,!=4.0.0a1->fsspec[http]>=2022.5.0->pytorch-lightning) (6.4.3)\n",
      "Requirement already satisfied: propcache>=0.2.0 in /usr/local/lib/python3.11/dist-packages (from aiohttp!=4.0.0a0,!=4.0.0a1->fsspec[http]>=2022.5.0->pytorch-lightning) (0.3.1)\n",
      "Requirement already satisfied: yarl<2.0,>=1.17.0 in /usr/local/lib/python3.11/dist-packages (from aiohttp!=4.0.0a0,!=4.0.0a1->fsspec[http]>=2022.5.0->pytorch-lightning) (1.19.0)\n",
      "Requirement already satisfied: idna>=2.0 in /usr/local/lib/python3.11/dist-packages (from yarl<2.0,>=1.17.0->aiohttp!=4.0.0a0,!=4.0.0a1->fsspec[http]>=2022.5.0->pytorch-lightning) (3.10)\n",
      "Downloading nvidia_cublas_cu12-12.4.5.8-py3-none-manylinux2014_x86_64.whl (363.4 MB)\n",
      "\u001b[2K   \u001b[90m━━━━━━━━━━━━━━━━━━━━━━━━━━━━━━━━━━━━━━━━\u001b[0m \u001b[32m363.4/363.4 MB\u001b[0m \u001b[31m4.3 MB/s\u001b[0m eta \u001b[36m0:00:00\u001b[0m\n",
      "\u001b[?25hDownloading nvidia_cuda_cupti_cu12-12.4.127-py3-none-manylinux2014_x86_64.whl (13.8 MB)\n",
      "\u001b[2K   \u001b[90m━━━━━━━━━━━━━━━━━━━━━━━━━━━━━━━━━━━━━━━━\u001b[0m \u001b[32m13.8/13.8 MB\u001b[0m \u001b[31m34.4 MB/s\u001b[0m eta \u001b[36m0:00:00\u001b[0m\n",
      "\u001b[?25hDownloading nvidia_cuda_nvrtc_cu12-12.4.127-py3-none-manylinux2014_x86_64.whl (24.6 MB)\n",
      "\u001b[2K   \u001b[90m━━━━━━━━━━━━━━━━━━━━━━━━━━━━━━━━━━━━━━━━\u001b[0m \u001b[32m24.6/24.6 MB\u001b[0m \u001b[31m31.6 MB/s\u001b[0m eta \u001b[36m0:00:00\u001b[0m\n",
      "\u001b[?25hDownloading nvidia_cuda_runtime_cu12-12.4.127-py3-none-manylinux2014_x86_64.whl (883 kB)\n",
      "\u001b[2K   \u001b[90m━━━━━━━━━━━━━━━━━━━━━━━━━━━━━━━━━━━━━━━━\u001b[0m \u001b[32m883.7/883.7 kB\u001b[0m \u001b[31m19.9 MB/s\u001b[0m eta \u001b[36m0:00:00\u001b[0m\n",
      "\u001b[?25hDownloading nvidia_cudnn_cu12-9.1.0.70-py3-none-manylinux2014_x86_64.whl (664.8 MB)\n",
      "\u001b[2K   \u001b[90m━━━━━━━━━━━━━━━━━━━━━━━━━━━━━━━━━━━━━━━━\u001b[0m \u001b[32m664.8/664.8 MB\u001b[0m \u001b[31m2.7 MB/s\u001b[0m eta \u001b[36m0:00:00\u001b[0m\n",
      "\u001b[?25hDownloading nvidia_cufft_cu12-11.2.1.3-py3-none-manylinux2014_x86_64.whl (211.5 MB)\n",
      "\u001b[2K   \u001b[90m━━━━━━━━━━━━━━━━━━━━━━━━━━━━━━━━━━━━━━━━\u001b[0m \u001b[32m211.5/211.5 MB\u001b[0m \u001b[31m6.3 MB/s\u001b[0m eta \u001b[36m0:00:00\u001b[0m\n",
      "\u001b[?25hDownloading nvidia_curand_cu12-10.3.5.147-py3-none-manylinux2014_x86_64.whl (56.3 MB)\n",
      "\u001b[2K   \u001b[90m━━━━━━━━━━━━━━━━━━━━━━━━━━━━━━━━━━━━━━━━\u001b[0m \u001b[32m56.3/56.3 MB\u001b[0m \u001b[31m12.9 MB/s\u001b[0m eta \u001b[36m0:00:00\u001b[0m\n",
      "\u001b[?25hDownloading nvidia_cusolver_cu12-11.6.1.9-py3-none-manylinux2014_x86_64.whl (127.9 MB)\n",
      "\u001b[2K   \u001b[90m━━━━━━━━━━━━━━━━━━━━━━━━━━━━━━━━━━━━━━━━\u001b[0m \u001b[32m127.9/127.9 MB\u001b[0m \u001b[31m7.2 MB/s\u001b[0m eta \u001b[36m0:00:00\u001b[0m\n",
      "\u001b[?25hDownloading nvidia_cusparse_cu12-12.3.1.170-py3-none-manylinux2014_x86_64.whl (207.5 MB)\n",
      "\u001b[2K   \u001b[90m━━━━━━━━━━━━━━━━━━━━━━━━━━━━━━━━━━━━━━━━\u001b[0m \u001b[32m207.5/207.5 MB\u001b[0m \u001b[31m5.5 MB/s\u001b[0m eta \u001b[36m0:00:00\u001b[0m\n",
      "\u001b[?25hDownloading nvidia_nvjitlink_cu12-12.4.127-py3-none-manylinux2014_x86_64.whl (21.1 MB)\n",
      "\u001b[2K   \u001b[90m━━━━━━━━━━━━━━━━━━━━━━━━━━━━━━━━━━━━━━━━\u001b[0m \u001b[32m21.1/21.1 MB\u001b[0m \u001b[31m107.8 MB/s\u001b[0m eta \u001b[36m0:00:00\u001b[0m\n",
      "\u001b[?25hDownloading pytorch_lightning-2.5.1-py3-none-any.whl (822 kB)\n",
      "\u001b[2K   \u001b[90m━━━━━━━━━━━━━━━━━━━━━━━━━━━━━━━━━━━━━━━━\u001b[0m \u001b[32m823.0/823.0 kB\u001b[0m \u001b[31m58.3 MB/s\u001b[0m eta \u001b[36m0:00:00\u001b[0m\n",
      "\u001b[?25hDownloading tensorboardX-2.6.2.2-py2.py3-none-any.whl (101 kB)\n",
      "\u001b[2K   \u001b[90m━━━━━━━━━━━━━━━━━━━━━━━━━━━━━━━━━━━━━━━━\u001b[0m \u001b[32m101.7/101.7 kB\u001b[0m \u001b[31m10.5 MB/s\u001b[0m eta \u001b[36m0:00:00\u001b[0m\n",
      "\u001b[?25hDownloading lightning_utilities-0.14.3-py3-none-any.whl (28 kB)\n",
      "Downloading torchmetrics-1.7.1-py3-none-any.whl (961 kB)\n",
      "\u001b[2K   \u001b[90m━━━━━━━━━━━━━━━━━━━━━━━━━━━━━━━━━━━━━━━━\u001b[0m \u001b[32m961.5/961.5 kB\u001b[0m \u001b[31m53.1 MB/s\u001b[0m eta \u001b[36m0:00:00\u001b[0m\n",
      "\u001b[?25hInstalling collected packages: tensorboardX, nvidia-nvjitlink-cu12, nvidia-curand-cu12, nvidia-cufft-cu12, nvidia-cuda-runtime-cu12, nvidia-cuda-nvrtc-cu12, nvidia-cuda-cupti-cu12, nvidia-cublas-cu12, lightning-utilities, nvidia-cusparse-cu12, nvidia-cudnn-cu12, nvidia-cusolver-cu12, torchmetrics, pytorch-lightning\n",
      "  Attempting uninstall: nvidia-nvjitlink-cu12\n",
      "    Found existing installation: nvidia-nvjitlink-cu12 12.5.82\n",
      "    Uninstalling nvidia-nvjitlink-cu12-12.5.82:\n",
      "      Successfully uninstalled nvidia-nvjitlink-cu12-12.5.82\n",
      "  Attempting uninstall: nvidia-curand-cu12\n",
      "    Found existing installation: nvidia-curand-cu12 10.3.6.82\n",
      "    Uninstalling nvidia-curand-cu12-10.3.6.82:\n",
      "      Successfully uninstalled nvidia-curand-cu12-10.3.6.82\n",
      "  Attempting uninstall: nvidia-cufft-cu12\n",
      "    Found existing installation: nvidia-cufft-cu12 11.2.3.61\n",
      "    Uninstalling nvidia-cufft-cu12-11.2.3.61:\n",
      "      Successfully uninstalled nvidia-cufft-cu12-11.2.3.61\n",
      "  Attempting uninstall: nvidia-cuda-runtime-cu12\n",
      "    Found existing installation: nvidia-cuda-runtime-cu12 12.5.82\n",
      "    Uninstalling nvidia-cuda-runtime-cu12-12.5.82:\n",
      "      Successfully uninstalled nvidia-cuda-runtime-cu12-12.5.82\n",
      "  Attempting uninstall: nvidia-cuda-nvrtc-cu12\n",
      "    Found existing installation: nvidia-cuda-nvrtc-cu12 12.5.82\n",
      "    Uninstalling nvidia-cuda-nvrtc-cu12-12.5.82:\n",
      "      Successfully uninstalled nvidia-cuda-nvrtc-cu12-12.5.82\n",
      "  Attempting uninstall: nvidia-cuda-cupti-cu12\n",
      "    Found existing installation: nvidia-cuda-cupti-cu12 12.5.82\n",
      "    Uninstalling nvidia-cuda-cupti-cu12-12.5.82:\n",
      "      Successfully uninstalled nvidia-cuda-cupti-cu12-12.5.82\n",
      "  Attempting uninstall: nvidia-cublas-cu12\n",
      "    Found existing installation: nvidia-cublas-cu12 12.5.3.2\n",
      "    Uninstalling nvidia-cublas-cu12-12.5.3.2:\n",
      "      Successfully uninstalled nvidia-cublas-cu12-12.5.3.2\n",
      "  Attempting uninstall: nvidia-cusparse-cu12\n",
      "    Found existing installation: nvidia-cusparse-cu12 12.5.1.3\n",
      "    Uninstalling nvidia-cusparse-cu12-12.5.1.3:\n",
      "      Successfully uninstalled nvidia-cusparse-cu12-12.5.1.3\n",
      "  Attempting uninstall: nvidia-cudnn-cu12\n",
      "    Found existing installation: nvidia-cudnn-cu12 9.3.0.75\n",
      "    Uninstalling nvidia-cudnn-cu12-9.3.0.75:\n",
      "      Successfully uninstalled nvidia-cudnn-cu12-9.3.0.75\n",
      "  Attempting uninstall: nvidia-cusolver-cu12\n",
      "    Found existing installation: nvidia-cusolver-cu12 11.6.3.83\n",
      "    Uninstalling nvidia-cusolver-cu12-11.6.3.83:\n",
      "      Successfully uninstalled nvidia-cusolver-cu12-11.6.3.83\n",
      "Successfully installed lightning-utilities-0.14.3 nvidia-cublas-cu12-12.4.5.8 nvidia-cuda-cupti-cu12-12.4.127 nvidia-cuda-nvrtc-cu12-12.4.127 nvidia-cuda-runtime-cu12-12.4.127 nvidia-cudnn-cu12-9.1.0.70 nvidia-cufft-cu12-11.2.1.3 nvidia-curand-cu12-10.3.5.147 nvidia-cusolver-cu12-11.6.1.9 nvidia-cusparse-cu12-12.3.1.170 nvidia-nvjitlink-cu12-12.4.127 pytorch-lightning-2.5.1 tensorboardX-2.6.2.2 torchmetrics-1.7.1\n"
     ]
    }
   ],
   "source": [
    "!pip install torch torchvision torchaudio pytorch-lightning scikit-learn pandas soundfile tensorboard tensorboardX"
   ]
  },
  {
   "cell_type": "code",
   "execution_count": null,
   "metadata": {
    "colab": {
     "base_uri": "https://localhost:8080/"
    },
    "id": "gjoh5HmspI2b",
    "outputId": "00fedae0-b98e-4658-f009-a9297e29f562"
   },
   "outputs": [
    {
     "name": "stdout",
     "output_type": "stream",
     "text": [
      "Mounted at /content/drive\n"
     ]
    }
   ],
   "source": [
    "from google.colab import drive\n",
    "drive.mount('/content/drive')"
   ]
  },
  {
   "cell_type": "code",
   "execution_count": null,
   "metadata": {
    "id": "v8oICAgbpLY4"
   },
   "outputs": [],
   "source": [
    "import os\n",
    "import pandas as pd\n",
    "import torch\n",
    "import torch.nn as nn\n",
    "import torch.nn.functional as F\n",
    "import torchaudio\n",
    "from torch.utils.data import Dataset, DataLoader\n",
    "import pytorch_lightning as pl\n",
    "from pytorch_lightning import Trainer\n",
    "from sklearn.model_selection import train_test_split\n",
    "from sklearn.preprocessing import LabelEncoder\n",
    "import torchvision.models as models\n",
    "from sklearn.metrics import confusion_matrix  # New import for confusion matrix\n",
    "from pytorch_lightning.loggers import TensorBoardLogger\n",
    "import tensorboard\n",
    "import tensorboardX\n",
    "from pytorch_lightning.loggers import CSVLogger\n",
    "logger = CSVLogger(\"logs\", name=\"my_model\")"
   ]
  },
  {
   "cell_type": "code",
   "execution_count": null,
   "metadata": {
    "colab": {
     "base_uri": "https://localhost:8080/"
    },
    "id": "0jAyEzAzqoT6",
    "outputId": "780a4d71-d0c4-4949-8b4e-611c552062f8"
   },
   "outputs": [
    {
     "name": "stderr",
     "output_type": "stream",
     "text": [
      "<ipython-input-4-a7bb97d14381>:2: UserWarning: torchaudio._backend.set_audio_backend has been deprecated. With dispatcher enabled, this function is no-op. You can remove the function call.\n",
      "  torchaudio.set_audio_backend(\"soundfile\")\n"
     ]
    }
   ],
   "source": [
    "# Set torchaudio backend (this call is deprecated but needed for .au files)\n",
    "torchaudio.set_audio_backend(\"soundfile\")"
   ]
  },
  {
   "cell_type": "code",
   "execution_count": null,
   "metadata": {
    "colab": {
     "base_uri": "https://localhost:8080/"
    },
    "id": "HIItaFveqq4x",
    "outputId": "329a048d-7c71-45dc-f6a1-7a60db2f07f6"
   },
   "outputs": [
    {
     "name": "stdout",
     "output_type": "stream",
     "text": [
      "Is GPU available? True\n",
      "GPU name: Tesla T4\n"
     ]
    }
   ],
   "source": [
    "# ----------------------------\n",
    "# Step 1: Check GPU availability\n",
    "# ----------------------------\n",
    "print(\"Is GPU available?\", torch.cuda.is_available())\n",
    "if torch.cuda.is_available():\n",
    "    print(\"GPU name:\", torch.cuda.get_device_name(0))"
   ]
  },
  {
   "cell_type": "code",
   "execution_count": null,
   "metadata": {
    "colab": {
     "base_uri": "https://localhost:8080/"
    },
    "id": "QYyoRkXFqtDv",
    "outputId": "c3c625db-0490-4e51-b59b-d524b9b567d2"
   },
   "outputs": [
    {
     "name": "stdout",
     "output_type": "stream",
     "text": [
      "Dataset loaded. Total files: 1000\n"
     ]
    }
   ],
   "source": [
    "# ----------------------------\n",
    "# Step 2: Load dataset from Google Drive\n",
    "# ----------------------------\n",
    "# Adjust the path below if your folder structure is different.\n",
    "dataset_path = '/content/drive/MyDrive/datasets/GTZAN/genres'\n",
    "file_paths = []\n",
    "genres = []\n",
    "for root, _, files in os.walk(dataset_path):\n",
    "    for file in files:\n",
    "        if file.endswith('.au'):\n",
    "            file_paths.append(os.path.join(root, file))\n",
    "            genres.append(os.path.basename(root))  # Genre inferred from folder name\n",
    "\n",
    "df = pd.DataFrame({'file_path': file_paths, 'genre': genres})\n",
    "print(\"Dataset loaded. Total files:\", len(df))"
   ]
  },
  {
   "cell_type": "code",
   "execution_count": null,
   "metadata": {
    "colab": {
     "base_uri": "https://localhost:8080/"
    },
    "id": "qDge4pwwrT1z",
    "outputId": "0098e5bc-0a27-4765-ccd9-c77728a0943f"
   },
   "outputs": [
    {
     "name": "stdout",
     "output_type": "stream",
     "text": [
      "Number of classes: 10\n"
     ]
    }
   ],
   "source": [
    "# ----------------------------\n",
    "# Step 3: Label encoding for genres\n",
    "# ----------------------------\n",
    "global_le = LabelEncoder()\n",
    "global_le.fit(df['genre'])\n",
    "num_classes = len(global_le.classes_)\n",
    "print(\"Number of classes:\", num_classes)"
   ]
  },
  {
   "cell_type": "code",
   "execution_count": null,
   "metadata": {
    "id": "eMnilddbrVIH"
   },
   "outputs": [],
   "source": [
    "# ----------------------------\n",
    "# Step 4: Define the dataset class to compute mel-spectrograms\n",
    "# ----------------------------\n",
    "class GTZANDataset(Dataset):\n",
    "    def __init__(self, df, label_encoder, duration=10, n_mels=128, hop_length=256):\n",
    "        self.df = df.reset_index(drop=True)\n",
    "        self.duration = duration            # seconds of audio to load\n",
    "        self.n_mels = n_mels                # number of mel bins\n",
    "        self.hop_length = hop_length        # hop length for mel-spectrogram\n",
    "        self.sample_rate = 22050            # standard sample rate\n",
    "        self.le = label_encoder             # shared label encoder\n",
    "\n",
    "    def __len__(self):\n",
    "        return len(self.df)\n",
    "\n",
    "    def __getitem__(self, idx):\n",
    "        row = self.df.iloc[idx]\n",
    "        file_path = row['file_path']\n",
    "        try:\n",
    "            waveform, sr = torchaudio.load(file_path)\n",
    "            # Convert to mono if stereo\n",
    "            if waveform.shape[0] > 1:\n",
    "                waveform = torch.mean(waveform, dim=0, keepdim=True)\n",
    "            target_samples = self.sample_rate * self.duration\n",
    "            if waveform.shape[1] > target_samples:\n",
    "                waveform = waveform[:, :target_samples]\n",
    "            else:\n",
    "                waveform = F.pad(waveform, (0, target_samples - waveform.shape[1]))\n",
    "            # Compute mel-spectrogram and convert to decibel scale\n",
    "            mel_transform = torchaudio.transforms.MelSpectrogram(\n",
    "                sample_rate=self.sample_rate,\n",
    "                n_mels=self.n_mels,\n",
    "                n_fft=2048,\n",
    "                hop_length=self.hop_length\n",
    "            )\n",
    "            mel_spec = mel_transform(waveform)\n",
    "            mel_spec = torchaudio.transforms.AmplitudeToDB()(mel_spec)\n",
    "            # Rearrange to shape (time_steps, n_mels)\n",
    "            mel_spec = mel_spec.squeeze(0).T\n",
    "            label = torch.tensor(self.le.transform([row['genre']])[0], dtype=torch.long)\n",
    "            return mel_spec, label\n",
    "        except Exception as e:\n",
    "            print(f\"Error loading {file_path}: {e}\")\n",
    "            default_mel_spec = torch.zeros((self.duration * self.sample_rate // self.hop_length + 1, self.n_mels))\n",
    "            return default_mel_spec, torch.tensor(0, dtype=torch.long)\n"
   ]
  },
  {
   "cell_type": "code",
   "execution_count": null,
   "metadata": {
    "id": "3BgT9QuGrarZ"
   },
   "outputs": [],
   "source": [
    "# ----------------------------\n",
    "# Step 5: Split the data into training and validation sets\n",
    "# ----------------------------\n",
    "df_train, df_val = train_test_split(df, test_size=0.2, random_state=42, stratify=df['genre'])\n",
    "train_dataset = GTZANDataset(df_train, label_encoder=global_le, duration=10, n_mels=128, hop_length=256)\n",
    "val_dataset = GTZANDataset(df_val, label_encoder=global_le, duration=10, n_mels=128, hop_length=256)"
   ]
  },
  {
   "cell_type": "code",
   "execution_count": null,
   "metadata": {
    "colab": {
     "base_uri": "https://localhost:8080/"
    },
    "id": "NIiAcgcYrgqP",
    "outputId": "c2d743fe-dee3-415d-99ad-4743ca630f26"
   },
   "outputs": [
    {
     "name": "stderr",
     "output_type": "stream",
     "text": [
      "/usr/local/lib/python3.11/dist-packages/torch/utils/data/dataloader.py:624: UserWarning: This DataLoader will create 4 worker processes in total. Our suggested max number of worker in current system is 2, which is smaller than what this DataLoader is going to create. Please be aware that excessive worker creation might get DataLoader running slow or even freeze, lower the worker number to avoid potential slowness/freeze if necessary.\n",
      "  warnings.warn(\n"
     ]
    }
   ],
   "source": [
    "# ----------------------------\n",
    "# Step 6: Create DataLoaders\n",
    "# ----------------------------\n",
    "batch_size = 8  # Adjust based on your GPU memory\n",
    "train_loader = DataLoader(train_dataset, batch_size=batch_size, shuffle=True, num_workers=4, persistent_workers=True)\n",
    "val_loader = DataLoader(val_dataset, batch_size=batch_size, shuffle=False, num_workers=4, persistent_workers=True)\n"
   ]
  },
  {
   "cell_type": "code",
   "execution_count": null,
   "metadata": {
    "id": "vewIgU1MrjQt"
   },
   "outputs": [],
   "source": [
    "# ----------------------------\n",
    "# Step 7: Define the Transfer Learning Model using Pretrained EfficientNet-B3\n",
    "# ----------------------------\n",
    "class MusicEfficientNetB7(pl.LightningModule):\n",
    "    def __init__(self, num_classes, learning_rate=1e-3):\n",
    "        super(MusicEfficientNetB7, self).__init__()\n",
    "        self.save_hyperparameters()\n",
    "        self.learning_rate = learning_rate\n",
    "        # Load pretrained EfficientNet-B7\n",
    "        self.model = models.efficientnet_b7(pretrained=True)\n",
    "        # Modify the first conv layer to accept 1 channel instead of 3\n",
    "        self.model.features[0][0] = nn.Conv2d(\n",
    "            1,\n",
    "            self.model.features[0][0].out_channels,\n",
    "            kernel_size=self.model.features[0][0].kernel_size,\n",
    "            stride=self.model.features[0][0].stride,\n",
    "            padding=self.model.features[0][0].padding,\n",
    "            bias=False\n",
    "        )\n",
    "        # Replace the classifier to output the correct number of classes\n",
    "        in_features = self.model.classifier[1].in_features\n",
    "        self.model.classifier[1] = nn.Linear(in_features, num_classes)\n",
    "\n",
    "    def forward(self, x):\n",
    "        # x shape: (batch, time_steps, n_mels)\n",
    "        x = x.unsqueeze(1)  # Add channel dimension: (batch, 1, time_steps, n_mels)\n",
    "        # Resize to 300x300 to match EfficientNet-B3 input requirements\n",
    "        x = F.interpolate(x, size=(300, 300), mode=\"bilinear\", align_corners=False)\n",
    "        return self.model(x)\n",
    "\n",
    "    def training_step(self, batch, batch_idx):\n",
    "        x, y = batch\n",
    "        logits = self(x)\n",
    "        loss = F.cross_entropy(logits, y)\n",
    "        self.log(\"train_loss\", loss, on_step=True, on_epoch=True, prog_bar=True)\n",
    "        return loss\n",
    "\n",
    "    def on_validation_epoch_start(self):\n",
    "        # Initialize lists to accumulate predictions and targets\n",
    "        self.all_preds = []\n",
    "        self.all_targets = []\n",
    "\n",
    "    def validation_step(self, batch, batch_idx):\n",
    "        x, y = batch\n",
    "        logits = self(x)\n",
    "        loss = F.cross_entropy(logits, y)\n",
    "        preds = torch.argmax(logits, dim=1)\n",
    "        acc = (preds == y).float().mean()\n",
    "        # Accumulate predictions and targets\n",
    "        self.all_preds.append(preds)\n",
    "        self.all_targets.append(y)\n",
    "        self.log(\"val_loss\", loss, on_epoch=True, prog_bar=True)\n",
    "        self.log(\"val_acc\", acc, on_epoch=True, prog_bar=True)\n",
    "        return loss\n",
    "\n",
    "    def on_validation_epoch_end(self):\n",
    "        # Concatenate all predictions and targets\n",
    "        all_preds = torch.cat(self.all_preds)\n",
    "        all_targets = torch.cat(self.all_targets)\n",
    "        cm = confusion_matrix(all_targets.cpu().numpy(), all_preds.cpu().numpy())\n",
    "        print(\"Confusion Matrix:\\n\", cm)\n",
    "        # Log the confusion matrix if the logger supports add_text\n",
    "        if self.logger is not None and hasattr(self.logger.experiment, \"add_text\"):\n",
    "            self.logger.experiment.add_text(\"Confusion Matrix\", str(cm), self.current_epoch)\n",
    "        else:\n",
    "            print(\"Logger does not support add_text. Confusion Matrix not logged.\")\n",
    "\n",
    "    def configure_optimizers(self):\n",
    "        optimizer = torch.optim.Adam(self.parameters(), lr=self.learning_rate)\n",
    "        scheduler = torch.optim.lr_scheduler.ReduceLROnPlateau(optimizer, mode=\"min\", factor=0.5, patience=3)\n",
    "        return {\"optimizer\": optimizer, \"lr_scheduler\": {\"scheduler\": scheduler, \"monitor\": \"val_loss\"}}\n"
   ]
  },
  {
   "cell_type": "code",
   "execution_count": null,
   "metadata": {
    "colab": {
     "base_uri": "https://localhost:8080/"
    },
    "id": "zrOmtFLZrng4",
    "outputId": "9679e11e-a576-42b1-9fe9-88fd18d2a8c6"
   },
   "outputs": [
    {
     "name": "stderr",
     "output_type": "stream",
     "text": [
      "/usr/local/lib/python3.11/dist-packages/torchvision/models/_utils.py:208: UserWarning: The parameter 'pretrained' is deprecated since 0.13 and may be removed in the future, please use 'weights' instead.\n",
      "  warnings.warn(\n",
      "/usr/local/lib/python3.11/dist-packages/torchvision/models/_utils.py:223: UserWarning: Arguments other than a weight enum or `None` for 'weights' are deprecated since 0.13 and may be removed in the future. The current behavior is equivalent to passing `weights=EfficientNet_B7_Weights.IMAGENET1K_V1`. You can also use `weights=EfficientNet_B7_Weights.DEFAULT` to get the most up-to-date weights.\n",
      "  warnings.warn(msg)\n",
      "Downloading: \"https://download.pytorch.org/models/efficientnet_b7_lukemelas-c5b4e57e.pth\" to /root/.cache/torch/hub/checkpoints/efficientnet_b7_lukemelas-c5b4e57e.pth\n",
      "100%|██████████| 255M/255M [00:01<00:00, 179MB/s]\n"
     ]
    }
   ],
   "source": [
    "# ----------------------------\n",
    "# Step 8: Initialize the model\n",
    "# ----------------------------\n",
    "model = MusicEfficientNetB7(num_classes=num_classes, learning_rate=1e-3)"
   ]
  },
  {
   "cell_type": "code",
   "execution_count": null,
   "metadata": {
    "colab": {
     "base_uri": "https://localhost:8080/"
    },
    "id": "7kiNRPIbrqeQ",
    "outputId": "bc74af49-648f-45e1-fc37-36a7223ed980"
   },
   "outputs": [
    {
     "name": "stderr",
     "output_type": "stream",
     "text": [
      "INFO:pytorch_lightning.utilities.rank_zero:Using 16bit Automatic Mixed Precision (AMP)\n",
      "INFO:pytorch_lightning.utilities.rank_zero:You are using the plain ModelCheckpoint callback. Consider using LitModelCheckpoint which with seamless uploading to Model registry.\n",
      "INFO:pytorch_lightning.utilities.rank_zero:GPU available: True (cuda), used: True\n",
      "INFO:pytorch_lightning.utilities.rank_zero:TPU available: False, using: 0 TPU cores\n",
      "INFO:pytorch_lightning.utilities.rank_zero:HPU available: False, using: 0 HPUs\n"
     ]
    }
   ],
   "source": [
    "# ----------------------------\n",
    "# Step 9: Configure the Trainer with the CSVLogger\n",
    "# ----------------------------\n",
    "trainer = Trainer(\n",
    "    max_epochs=30,  # More epochs for thorough fine-tuning\n",
    "    accelerator=\"gpu\" if torch.cuda.is_available() else \"cpu\",\n",
    "    devices=1,\n",
    "    precision=\"16-mixed\",  # Mixed precision for faster training on GPU\n",
    "    accumulate_grad_batches=4,\n",
    "    log_every_n_steps=10,\n",
    "    logger=logger\n",
    ")"
   ]
  },
  {
   "cell_type": "code",
   "execution_count": null,
   "metadata": {
    "colab": {
     "base_uri": "https://localhost:8080/",
     "height": 1000,
     "referenced_widgets": [
      "96e53849554e4fc395d9ab40a086c25c",
      "f87d357eae7e40e4aeb962b5d2b62505",
      "c1924ddb02874185bccacbae54b94ee5",
      "76297b35931041c1923bffb8f9308580",
      "d8920646cdf24540b12390314ea67d3e",
      "d156a7590c684058acef073da6479547",
      "efd1def6e624433499948e5040b5c807",
      "d785a39288c0499c911e0e35aaab0577",
      "afcfa78306124e2dbb8b31b4c72450e0",
      "476fe038feec414e8eb3fd2292ce9048",
      "0319667917404ab6a5a0eebd25199a2d",
      "9ab9ef5ecb9b4edfb3bd6fdf130cd3a5",
      "e90254d5e91446a49afbaa9fbb79e569",
      "47043962fe4d4f948ec93c3d911e34ed",
      "e6ba0514864b4e5f958ffb9fa9d0d8b8",
      "11bbb57578a445ad80cade0e8ea91f85",
      "275ca0f392d344bfbb3cef16d9a761b6",
      "38980c71cf4c44739beb00c82daedc96",
      "7bdbad5ac3c44e10aaf18d7caf4c860e",
      "cf701313907e4c85bee1e7f1997fc0d7",
      "059adbc0f98a4b73aa90501449c59095",
      "8c6cbbd3eb7b4cc18d069809e308acd7",
      "065ffa0cbe0149e698a1761b98b43a49",
      "d756858d6f89471dbf60eaebfbbe74fc",
      "13b0ac0be0bb4a7988c562c580a85777",
      "b9d0938a3abd44848a7bd82d5200dcaf",
      "d16d5243a3234bd0be593f54cf814323",
      "ed31ad1e15164f42a124ee2a12caa421",
      "a4dd26aca9554fc292e7341aeeb6b2a0",
      "cd34485904784d80a5ce908d60885a11",
      "abe693b367964217825c730ad51013ae",
      "adea639333e84967a1c2b7d7785a7ade",
      "4fcf8939567b471195ebbdc63c4f8c70",
      "cee636b30da84855a54073b5c08ea416",
      "16ae79c062524331aaf8541da9fb001a",
      "6e553c3ae40140a0ac39f73a7cbebff7",
      "b7283eb935f34c1e8d0035425c164568",
      "3a5f29e1e06f4bc296f05bfeddca5625",
      "16beef832701419881e5b85ad42d1f6c",
      "d8556c79ee8b4ab3b94fbbf806af31de",
      "bcaf8b77f8824c55b0ec81acb25f0894",
      "cfd936aec0bf4236b4ac6a9a3ac8976d",
      "4dcc9d07904d46d89e6c2aa135c54248",
      "30fa29197d1a4d6db3d5e212545af592",
      "5aba9f9b10ae4e4bb396c102ee2dae8b",
      "d84cb88b7e6742b5858221f5b45afd56",
      "6ec2e3ecfeef48528a8f49ebb80755ff",
      "d317cf5288a946748dafa2ca4e026072",
      "65c9fa64de4347579f4deb9c0607446e",
      "63e2f2e118c6404995a72c20846f24c5",
      "4de3e779b3484a41a5065727eb7b1b61",
      "f4a358b7b70d4afd9f4c2381047f47a9",
      "d1261d1a9fe6483c9c4bc42150fe20fd",
      "d4271548f1674fad8aecc0ff6bf3d2cb",
      "2ee776833d8346eeaf1eef3f7f06886b",
      "74bc5fe4e21e47fe938b02f2eaa0feae",
      "60ac81ed08a94ce3b100b7b8ec7a2b78",
      "d9940cce83024dbba3049f43b5704594",
      "ea2128f8346c49e8acda32e0025a4cad",
      "b24fc69fd3d54daead1d93cd2679994a",
      "2262c34acc8b41c2bc09ce6d2e01aef1",
      "359538cf6cd5463c8ddf70917661e551",
      "925a068723914d80801023d8e7b7aae0",
      "07000b568f734ca7b2e4f7814a2d8044",
      "d082f308977a4e79adcfefe3d1894f40",
      "2cc21297a7f645e0bdcb6f211f964ec6",
      "a33e968a08d947e1b43a7ea6e9c5cc32",
      "8b77f67e75dc447793d974f40584b1ba",
      "d64bb3ba28014fe5af7f49bec2a894ae",
      "fe33d2c5f4bc4ea286b7508af75eb7d1",
      "3525ef2f2da14eff9f46aaadfdb7ece0",
      "acd2851aaa64473593c045732138508c",
      "be551ee7e82b4d44a957e0d9949f62f4",
      "6d2ad72a34ae444b883de87c6dbdda5e",
      "c606f634665642dfbd9d30d555de0683",
      "7d69b49d12c74c44a14301afee3f9835",
      "aeca5a213fa24d76aa1fd3e6853dac4b",
      "6727e00951034ae78a9e5eb573945ee3",
      "1fd3508db6bd4bdd81032dde33ea7c3f",
      "eb6210f295e44bdcbc87ab37dcf959eb",
      "3b9ba095a2414947b4ce429349edd3c1",
      "3fbd4d6fdb5e4b36af39c879389d958b",
      "9670339737e445a88fbcc4834994c175",
      "fdcacc85f80a4d32afe5d3ac75c03965",
      "d79add381102405495956d1f4f610a6f",
      "10ccadfa2a694291950f865ac315f3a2",
      "0e8daf70c5c1494586a53e707e49f7da",
      "48f81696e4f144dd9f7d782d01df271c",
      "1f8e7721012b4a4dab1cd0a11ec623d8",
      "70ac9a3efe1a4c839696a73dea9bc907",
      "8d72e397d8204075a9b4780425c1e324",
      "5e620e00fb3a47528f84cd5d3c2aa6aa",
      "ecd520b7c6b24d41a5ca53e925fb6efe",
      "650a48282c1a4fa99697d630fdc01ef2",
      "fcccd524b12244f2ab38e7a25b4e609e",
      "aaa6c886ea694e7ba6d65b5778660450",
      "06bc049afdd1436db3effffe87a80eb2",
      "3c6e9a7e9ce04604abf201fb1593eaba",
      "3d16ae5ec09f49df9d964e361fa6cb7d",
      "41e75eeff7864241b0ffe667eec15268",
      "e1da15f32132436a8995c05acd561723",
      "46464121218541418db3c41f20f51bd7",
      "226ac7c9ded441458effb91edc58ee3e",
      "6ebf822d3cfb4b64a4d29bc3cf0e2278",
      "8f684deb5c254fbc9571558c6fd4c5eb",
      "ae32b76f71384040ba8564446ee05e6b",
      "0d824530c7e74cdfa9aed6544b56c8e7",
      "ecf1417229b045be8d4144d69c7d2dd4",
      "ae5ce8edc30b425b9cb9d1430568fba1",
      "ac962ede8d834bc7b5a9e10ac0ff4b72",
      "a96c867471374393aedc37fc29c9c7bf",
      "e15d20bbcd644df488b91b0617b67cd9",
      "16c66c6bd57e4a1caf5d7edc7862619e",
      "3a23d5be74034c96951732da11651a90",
      "a3548d7f015e4b8e82c5f805f248e10f",
      "3f8ab4b10d8f412b8bcf991cff93bc21",
      "9d092d653505429d9a529f9503569102",
      "0e96fe7bf9ea4e81b3eee4607a086d8e",
      "9476e961952e4fe99a684e4587e75207",
      "973c216b8fc14480923ab52221c7f660",
      "ed929a937465482597245fd590bc6ede",
      "42ebfd08390e4f25b6f1432b01f7a328",
      "582e31e0a99e4b378decba144f195ef8",
      "537a21faf65e4a5ba24135113fcf0fe6",
      "af162629d80b47e6b1e22816f00cec29",
      "a567fb55a0ef4a19b6686be0fd8103fa",
      "748ff4e460144f48985e05497d944893",
      "2e2677ff9f834e33b6808c1d9d7ac47f",
      "0f6b88fd0f2445c39220cfceb0657e19",
      "ab991701062a459f93219c24f74272ba",
      "a29a21ee46d64087a2673bc929cb8682",
      "e01d7f21b460457eb7811eb3871914c4",
      "4a1d720e5dda4214b3df40656a27e7ee",
      "f211a8b44a0e4f46b6342a6131a201cc",
      "eb02c89c3d3d4f6c805744e1ef0ac0c6",
      "78119e8edbe74f368357591e92bad354",
      "13c1fca9ee814a6395723f17119a7d05",
      "bcc1f83ca7154e368bbaf90aaafa40cb",
      "fdd68f0aeef44b34a41d5f24c19f2944",
      "6734771f4b734f9897c4217313e6b7d0",
      "dda6e11e4c0f44cdad198c0229283c68",
      "9ffb3d244f804eee98d0875a8a784751",
      "1ca88a0e4df0473d813f498b440e6933",
      "9375a8f0dab44aa18f900dabf324f491",
      "e079797c2a62462d98767f13251218c9",
      "e10f9bdc42e147f59184b6c058d764ff",
      "c7790a5e31694dee88f79281fee386a2",
      "3fca5884333a4b5f8eb37584ac040af7",
      "439f8105eaa54eb299dd42a1010b9a26",
      "9de72df13b054a02936feabf60e3864e",
      "5eea619da060496eb59223dacaa08279",
      "761826cc07ca46e8b3a8cd91ea42a58e",
      "625d436ae8044ee6aad50c3f9c550e5c",
      "36847ff5386346b5adafbb97d76df544",
      "2f2d363848614a0fa976e018231a28b4",
      "0ddcbb53cec3467eae4ee1b968e4ed10",
      "3dd3b8bcf4594d4daa538a42aaa46131",
      "7727adff78534da2a44eb1cf9d04b25a",
      "0762f07bc2a94e3f828e673e54359543",
      "c021cf404402488e8ddd3f3b12aca79f",
      "9af559d1e0394651b507b51ad7e3a13b",
      "adc220f620274a75a6382f3af4da3b80",
      "0fbc7824481545fabb98df4c497bd188",
      "0952bdc53fd34c31be2cf4bb8280eac5",
      "130e73e29a2d455dac850813cd15d8bb",
      "d3ace975de3d4b68af24a1ed4ca1f8ae",
      "a0389bd6aadd4f07936121f1f780c018",
      "0128b0ce790a4a53aede1c1b65ee4c9a",
      "14819d23f874460a9dcbd95295c8ad85",
      "2be9af33ece045ec9cd4ca7182558c5e",
      "354ebbee6310448c809f60b4adeee7f5",
      "1073bca1aad24e8eb9166536de7e7b33",
      "ed41b536a6cc46e19830095d9c6b9176",
      "61f59c2bbb6c4f2ca1d5d571115f07fe",
      "2f6082e046314f8ab493ec01182aed17",
      "8140f8c8a9a14edf8658647621af63c7",
      "9b5c9924fba9443694fa4e648d638228",
      "8de5ffb896e549208210c81bcaa0469a",
      "9b5b9683780a4b27aeda1730f8c9d69e",
      "1deed06e9e374c3a9ad33be1183f0a5f",
      "bdf90f7d0eb54fe4b026cd9bad3e2383",
      "61bb77252de443c0ac12872b0587b72b",
      "53dbf0700cb645e895b74210af21c843",
      "4ab818ff230b46f2ad299be2086c6e1a",
      "8ecf554acfbc4c989a8296081d51eb5f",
      "34817e917f384ee290cc79f22512aee8",
      "b4c06cd0468648f5a90da5bc5e096291",
      "7ab9de4a6dbd4da7be19544010e591c8",
      "fc49afa72b154ea488dfbf125e1126e1",
      "0c9600e5f8c4432399addce23c3b4c7b",
      "b4f67ba0c3a948e9b89fcc614e1a056f",
      "e574ce6d8ab94def9eae208badef6867",
      "cf4845966cc7438e96099b881cf9b73a",
      "bc53e4de68ce489ca8db32ba929cb1dd",
      "404d4d3b51444e91b1dc0afd77f61779",
      "2d84dadffd104a608ca12381c5fa8aaa",
      "c27f0d7418ae4b9ca6441a5fda2c0aa4",
      "e3d37c791fb74846a07eb2bb279e7692",
      "373f2597b8104bc6b8aed9cfee933db9",
      "5d9aa81134cf4bb880ec17025f5c5357",
      "850cab6988c34f8c816a447cf706f48c",
      "2ba50b08f5de45dfa400b1cd9c681b23",
      "39b01606474a4704b888354e9fcf2bc4",
      "747378bd3f904cbda2d6a7ee25e318a0",
      "da905ccfbcd946388d988c229b74d0de",
      "9c5a63ce7d2e40b7a0e618629c6360ff",
      "91e84c7347dc4179b8f78e9265aae00c",
      "06c4188fd2764517b91e2bee1eac798d",
      "c0f5bba4cfea428cb5777b18d879f7a5",
      "da03a64004ce4f12ae67e436e6d721c9",
      "5a4fa3ba3d6b4e9bb793fce3d791026d",
      "3af70d98f1aa447a8dd6a733d6d6e37e",
      "70143cbbbbbd46eea78ebb6df9722a7d",
      "6342d2d826b24aab914f6ac06be978a4",
      "8d8bc49b8d564ba6ab178e6f6ba7b97a",
      "73c5ae5cad2f45c8bf4f94484fc34ab2",
      "b86cd6ae27614035867a0f2d856875ef",
      "60ce18f1f287408f9d45c2abf00a788b",
      "67eb57722f7d4324843c718e63ea4f46",
      "199b6d88e50148adb582f67836d36aa8",
      "d903533e9ec443b1aa94b1ab49ac8485",
      "adb8d316177b4207bcdb12952a4f3bd8",
      "813eecc8674f41c0b33cfe663b2fd8ba",
      "3b48502dd2e640788a7b84dcdbd6e5d3",
      "c114516349964072ad08e93bb9523e74",
      "94f42a0cf3e84a08b13fbb6ea05233b5",
      "eb84c0ac0ae24440b6188d69f4beb30d",
      "7bf95e97ea1146f18f643a12ca03ddd4",
      "906949792a98428783805c6e3cfc609a",
      "e70e9b4f7f1d4f3699b7ed44b3810b1d",
      "15be22fdf991401b8c527615a84415ce",
      "6f9e7e5456f74381985968695dd9cc4c",
      "8e1e0e39a1af4c2bb5d4e15fee0f876c",
      "710af4c6323f43768d1bb1e04ae155de",
      "736773d98583492f8c6f086a3de9f142",
      "36ec035872d741849c72da874f0f41c3",
      "66dce4baea4e4d3a966a0ba72037b7f2",
      "33cc57f04e5c4165934f3b54843d7f9d",
      "e9ae9048b4554b3197b4a3a36c6a9eeb",
      "ce3dac67d23246668aa499e321eec863",
      "888cf9af0a86429b85b74d5b68c6d735",
      "8979acd9d52c4a8fba7d3aa625e4eda4",
      "2a37f2c8542741749f62376053a543df",
      "fe6380e4c51b47a4a447ec27aa9a567e",
      "858f1488339a435e942b1c6824ea98cc",
      "235ef35e76e84aa9bc613dd7ecf963ea",
      "f5de306d94ce4d6b85b9f108ddf51817",
      "d85527b043f94233917c002b9b64353c",
      "af1092849a8b43818eb35bca2975a06b",
      "9e0aca5910934aadae7fde9e6a458fc3",
      "f07b42c3f19a4bc2981597cf6dbf1cad",
      "3656e1c1ccf045bd90e86c4e360b1c22",
      "9bd091718fcb4098b93120a7719bde6f",
      "ee020f74b9834e31a986ae454e4aa0a5",
      "4f74ec27a633444fbb7f41bbad4c9fdb",
      "4d256e7e750d488095be33a6b2730c25",
      "466e8cebc4794fe9abad117950afee92",
      "2da5f6d08c9e429a8f8821b874372c73",
      "dd493c423fc24e68bc7b70c184fa712c",
      "3fffd9ac064c48e7a1771da8d2ca7c09",
      "ea942aa3217c4be5be457b009653f500",
      "7cc4bda4ed4140b2bec5ee4bda7323e2",
      "d5c2c6a1b29b4e5694856cdeb72c3b08",
      "d1831ff80967489b8cde0d19207475f8",
      "b2cc800f98d74729ad84b36f4f7eed01",
      "9e0d372098ca42b691f2ab85b3605f2c",
      "5903c491603546c1a655dffaaa0ff405",
      "31210076538a415581db56cd27e1cd7c",
      "47f1693667624a0584212ac9ae986a15",
      "1dd9f7ba4a4f47f8afe4b09c9e563dd4",
      "82267347701e49789cbb10f8620df4f6",
      "cc59a9d1fccc48acb7447a1b3a8ef38f",
      "aee331af31a849c7b619e44eb3870479",
      "ad0095bfbfa3497287766d03ed633ad0",
      "1103f5b92bf94adfae47b8885b1d6c49",
      "cc044d074a0045f1876e2bf058ca45d4",
      "28c77ec9a5ec4f5cab5b028a4f4cff86",
      "544a08f1659b4ace81eed6dd20fa1876",
      "bb2ba4be453c43c78e9fadd1132a7f39",
      "acadec9b1991437bac8197330186806c",
      "fe68e52cc6cd4ef9ad4d644edf775a03",
      "0d134c9e27e041bb9d989a25d79c01d5",
      "0578df75bfc24c9988b08c37f958fc2a",
      "b5875a4cc27641c78b69ec9c081611db",
      "8c7565916b6f4512a5eca73e8e7d5962",
      "c4ba90b7052444c9b10fc57bf1a69117",
      "d4622fa3521942e386f3dcfcd5627e68",
      "1657e44f86004a54ad143570bc3ff241",
      "e5115e031b224d87930a77318f158aa2",
      "e3289eb5d4584287882a73b4d4bac101",
      "a1151de4fb01405bbf17616b30a539e6",
      "52217e6f4809456985fa08337b11158f",
      "4c3fb66505f14895aba6fb7fbb88e9a2",
      "15199f928cae4325b0d23644cc131755",
      "df5c052b52d9414db9d1c0413b6b33b6",
      "17d0f8b30d7e4443b4dd89ba4fe295bf",
      "2122d671218643ce91808e31eaaa8bd8",
      "9cdbadf9c85841dc80ec49668d0fd617",
      "dc2573e079eb48ddb3c77d65107000cf",
      "b6927d1194d94fc3885c359da405da8e",
      "d8e9b5fa3369459485e474a65f6cf7b8",
      "a684d3bdf3064295a9bcad5ba6317ba7",
      "cd8e1d17fe0746cc9cc34452c1657186",
      "3e0bdef6101a4569a7372e177299f040",
      "56b78ae011e649909ac77ef795d89cc7",
      "529d3e176ad24ae5ab3d0b5afd8ec0df",
      "7f09046027e14cf5ac55d586cc95afea",
      "83d5663cda2e4e9ba7c62435697a1795",
      "4d7d12a9a2b44959ab6a5220ba61c4a6",
      "de645f51bdc04bd897e12ae667fe0df4",
      "c3b805d8a8614ca0bd31ff3ee08e1a52",
      "15f52b5e4f984517bf7b8f30346baffc",
      "43ae7884887e44139ee384687ef79758",
      "4d215fca39fc437ca621578ba9e4a7cc",
      "a7485518951a460f914612384637f034",
      "bece9afbd237414bb1a2f656634dab43",
      "feb2f3ea17674a8686ad6c701e8b87d4",
      "657d7dbd5a2d463195fb53b84ddfe23c",
      "f7fb5ba4d68547a8ab1b6b66beb75150",
      "1027bca37e8c48b8b034357f7fd3e43b",
      "8a04fc277152463183bef3a28291179a",
      "3270b8f98eaf44c1bb7aa8c52e20bec4",
      "d9ada541a09544929983c62d1d0df8f5",
      "25e0824ccb6a4163a1d103190488f347",
      "8a25f12c7a7a443eabc93b989bb03b89",
      "35c8e689c1a44dbe9eb5fb23d6f8fc36",
      "be544227733b4ceca6d140d9d92a2b9c",
      "98b35033cb854599a0ffdc51ea1bf959",
      "2e9fae4bd90947f3929c0c56b1a27091",
      "eb0b5cb5c4b84cafbb8dfe7ac0f8de29",
      "3008003655914df7a2bd5d05f1170057",
      "c7c49f9875914a38857375f97d19c4f7",
      "3dff39348ec94da7854f22d0958dc4b3",
      "ea6ae4fb09984199b8581f9377e5ab82",
      "e73b97f4f6584824a14f059c1eac949c",
      "445b69340a564ec0a8a380283abe7c05",
      "3cee28d35e0743ea93f04030fbefc0e3",
      "1962cdb990cf4b48bf2c53b0c4dee1fd",
      "cffb3e259a6e47b6bdd57acbeb19b741",
      "3e941eb881214b238bcce5bad40ae25d",
      "f340b92b9cfb45718c437dbe550d26ce",
      "705bd5ceeead40efb5a3ef0d12152f7f",
      "d33d7e1a4bb6477ca6200b8aa1e14dcc",
      "d9c6c43624fe4029b77d69f466ddcfb6",
      "eedba8a3738f4754aaba37c915f916ca",
      "1997ab999f8c43778c8ff222885b6b5a",
      "5eacd3434816474baaae6e3b655011e0",
      "cfd4f615f8b04effa6c75be0cc90f3ca",
      "87cdf42d8a4d464789201413d9bebb2d",
      "e88155c3dc4f457da3eccfce5b33ccdd",
      "03b8b7bc98fb446883c35f2c102aef88",
      "e19281eeecf8477fac0d920e55251017",
      "45e85d110662498c8ca6d71e56294f4a",
      "4012f07df26a43fcb16208bd1750937f",
      "1222988f23a0499a8a9b58c166a8b2ff",
      "20826d551ae3473ea340ffdde5f7a5fb",
      "a43c0119216f43e192d8505eac0d0460",
      "86d78ca293d04185bec1286404b708e8",
      "c19a3901f608403790c29af0cdf93820",
      "9607190a0cd046a4a4004037e6a71cda",
      "43950177d5e24de295b9065f7470993d",
      "73cf9a9eb27c4115ad7347c38d5d3283",
      "c08a5c43f4464582adfd12b23d1976a2"
     ]
    },
    "id": "dTlJFOcprs5p",
    "outputId": "a61fdb27-cc23-4e61-a542-9d82efd0b45b"
   },
   "outputs": [
    {
     "name": "stderr",
     "output_type": "stream",
     "text": [
      "INFO:pytorch_lightning.accelerators.cuda:LOCAL_RANK: 0 - CUDA_VISIBLE_DEVICES: [0]\n",
      "INFO:pytorch_lightning.callbacks.model_summary:\n",
      "  | Name  | Type         | Params | Mode \n",
      "-----------------------------------------------\n",
      "0 | model | EfficientNet | 63.8 M | train\n",
      "-----------------------------------------------\n",
      "63.8 M    Trainable params\n",
      "0         Non-trainable params\n",
      "63.8 M    Total params\n",
      "255.246   Total estimated model params size (MB)\n",
      "1105      Modules in train mode\n",
      "0         Modules in eval mode\n"
     ]
    },
    {
     "data": {
      "application/vnd.jupyter.widget-view+json": {
       "model_id": "96e53849554e4fc395d9ab40a086c25c",
       "version_major": 2,
       "version_minor": 0
      },
      "text/plain": [
       "Sanity Checking: |          | 0/? [00:00<?, ?it/s]"
      ]
     },
     "metadata": {},
     "output_type": "display_data"
    },
    {
     "name": "stderr",
     "output_type": "stream",
     "text": [
      "/usr/local/lib/python3.11/dist-packages/torch/utils/data/dataloader.py:624: UserWarning: This DataLoader will create 4 worker processes in total. Our suggested max number of worker in current system is 2, which is smaller than what this DataLoader is going to create. Please be aware that excessive worker creation might get DataLoader running slow or even freeze, lower the worker number to avoid potential slowness/freeze if necessary.\n",
      "  warnings.warn(\n"
     ]
    },
    {
     "name": "stdout",
     "output_type": "stream",
     "text": [
      "Confusion Matrix:\n",
      " [[0 1 0 0 0 1 0 0 3]\n",
      " [0 0 0 0 0 1 0 0 0]\n",
      " [0 1 0 0 0 0 0 0 1]\n",
      " [0 1 0 0 0 0 0 0 0]\n",
      " [0 0 0 0 0 0 0 0 1]\n",
      " [0 1 0 1 0 0 0 0 0]\n",
      " [0 0 0 1 0 0 0 0 0]\n",
      " [0 1 0 0 0 0 0 0 0]\n",
      " [0 1 0 0 0 1 0 0 0]]\n",
      "Logger does not support add_text. Confusion Matrix not logged.\n"
     ]
    },
    {
     "name": "stderr",
     "output_type": "stream",
     "text": [
      "/usr/local/lib/python3.11/dist-packages/torch/utils/data/dataloader.py:624: UserWarning: This DataLoader will create 4 worker processes in total. Our suggested max number of worker in current system is 2, which is smaller than what this DataLoader is going to create. Please be aware that excessive worker creation might get DataLoader running slow or even freeze, lower the worker number to avoid potential slowness/freeze if necessary.\n",
      "  warnings.warn(\n"
     ]
    },
    {
     "data": {
      "application/vnd.jupyter.widget-view+json": {
       "model_id": "9ab9ef5ecb9b4edfb3bd6fdf130cd3a5",
       "version_major": 2,
       "version_minor": 0
      },
      "text/plain": [
       "Training: |          | 0/? [00:00<?, ?it/s]"
      ]
     },
     "metadata": {},
     "output_type": "display_data"
    },
    {
     "data": {
      "application/vnd.jupyter.widget-view+json": {
       "model_id": "065ffa0cbe0149e698a1761b98b43a49",
       "version_major": 2,
       "version_minor": 0
      },
      "text/plain": [
       "Validation: |          | 0/? [00:00<?, ?it/s]"
      ]
     },
     "metadata": {},
     "output_type": "display_data"
    },
    {
     "name": "stdout",
     "output_type": "stream",
     "text": [
      "Confusion Matrix:\n",
      " [[19  0  0  0  0  1  0  0  0  0]\n",
      " [ 8  2  0  1  0  9  0  0  0  0]\n",
      " [ 9  0 10  0  0  1  0  0  0  0]\n",
      " [ 8  0  1  2  1  0  0  0  8  0]\n",
      " [ 7  0  1  0  7  0  0  0  5  0]\n",
      " [ 4  0  0  1  0 14  0  0  1  0]\n",
      " [20  0  0  0  0  0  0  0  0  0]\n",
      " [ 0  0  4  0  3  0  0  0 13  0]\n",
      " [ 6  0  3  0  1  0  0  0 10  0]\n",
      " [ 9  0  6  1  1  2  0  0  0  1]]\n",
      "Logger does not support add_text. Confusion Matrix not logged.\n"
     ]
    },
    {
     "data": {
      "application/vnd.jupyter.widget-view+json": {
       "model_id": "cee636b30da84855a54073b5c08ea416",
       "version_major": 2,
       "version_minor": 0
      },
      "text/plain": [
       "Validation: |          | 0/? [00:00<?, ?it/s]"
      ]
     },
     "metadata": {},
     "output_type": "display_data"
    },
    {
     "name": "stdout",
     "output_type": "stream",
     "text": [
      "Confusion Matrix:\n",
      " [[ 3  0  2  0  0  5  0  0  2  8]\n",
      " [ 0 19  0  0  0  1  0  0  0  0]\n",
      " [ 0  1 15  0  0  3  0  0  0  1]\n",
      " [ 0  0  1  3  1  2  0  0  8  5]\n",
      " [ 0  0  1  2  8  1  0  0  0  8]\n",
      " [ 0  1  0  0  0 19  0  0  0  0]\n",
      " [ 0  0  0  2  0  1  1  0  1 15]\n",
      " [ 0  0  2  2  1  1  0  7  4  3]\n",
      " [ 0  0  1  0  0  4  0  0 12  3]\n",
      " [ 0  0  2  0  0  7  0  1  1  9]]\n",
      "Logger does not support add_text. Confusion Matrix not logged.\n"
     ]
    },
    {
     "data": {
      "application/vnd.jupyter.widget-view+json": {
       "model_id": "5aba9f9b10ae4e4bb396c102ee2dae8b",
       "version_major": 2,
       "version_minor": 0
      },
      "text/plain": [
       "Validation: |          | 0/? [00:00<?, ?it/s]"
      ]
     },
     "metadata": {},
     "output_type": "display_data"
    },
    {
     "name": "stdout",
     "output_type": "stream",
     "text": [
      "Confusion Matrix:\n",
      " [[10  0  4  0  0  2  1  0  1  2]\n",
      " [ 0 20  0  0  0  0  0  0  0  0]\n",
      " [ 0  0 16  0  0  0  0  0  1  3]\n",
      " [ 2  0  5  1  1  0  0  1  4  6]\n",
      " [ 3  0  0  0  9  0  0  2  3  3]\n",
      " [ 0  1  0  0  0 19  0  0  0  0]\n",
      " [ 0  0  0  0  0  0 15  0  1  4]\n",
      " [ 0  0  5  0  0  1  0 10  3  1]\n",
      " [ 1  0  3  0  0  0  0  0 14  2]\n",
      " [ 0  0  7  0  0  0  0  0  0 13]]\n",
      "Logger does not support add_text. Confusion Matrix not logged.\n"
     ]
    },
    {
     "data": {
      "application/vnd.jupyter.widget-view+json": {
       "model_id": "74bc5fe4e21e47fe938b02f2eaa0feae",
       "version_major": 2,
       "version_minor": 0
      },
      "text/plain": [
       "Validation: |          | 0/? [00:00<?, ?it/s]"
      ]
     },
     "metadata": {},
     "output_type": "display_data"
    },
    {
     "name": "stdout",
     "output_type": "stream",
     "text": [
      "Confusion Matrix:\n",
      " [[ 6  0  4  1  0  3  1  2  0  3]\n",
      " [ 0 11  0  0  0  9  0  0  0  0]\n",
      " [ 0  0 16  0  0  1  0  3  0  0]\n",
      " [ 1  0  0  0  3  0  1 14  1  0]\n",
      " [ 0  0  0  0 15  0  1  4  0  0]\n",
      " [ 0  0  0  0  0 20  0  0  0  0]\n",
      " [ 0  0  0  0  0  0 19  1  0  0]\n",
      " [ 0  1  0  0  0  0  0 19  0  0]\n",
      " [ 1  0  1  1  1  0  0  8  4  4]\n",
      " [ 0  0  8  0  0  0  2  8  0  2]]\n",
      "Logger does not support add_text. Confusion Matrix not logged.\n"
     ]
    },
    {
     "data": {
      "application/vnd.jupyter.widget-view+json": {
       "model_id": "a33e968a08d947e1b43a7ea6e9c5cc32",
       "version_major": 2,
       "version_minor": 0
      },
      "text/plain": [
       "Validation: |          | 0/? [00:00<?, ?it/s]"
      ]
     },
     "metadata": {},
     "output_type": "display_data"
    },
    {
     "name": "stdout",
     "output_type": "stream",
     "text": [
      "Confusion Matrix:\n",
      " [[ 9  0  0  4  1  0  0  1  2  3]\n",
      " [ 0 19  0  0  0  0  0  0  1  0]\n",
      " [ 0  0  2  1  0  0  0 15  1  1]\n",
      " [ 0  0  0 11  5  0  0  2  1  1]\n",
      " [ 0  0  0  0 20  0  0  0  0  0]\n",
      " [ 0  2  0  0  0 14  0  2  1  1]\n",
      " [ 0  0  0  2  2  0 11  2  0  3]\n",
      " [ 0  0  0  0  2  0  0 18  0  0]\n",
      " [ 0  0  0  2  1  0  0  3 13  1]\n",
      " [ 0  0  1  0  2  0  0  9  0  8]]\n",
      "Logger does not support add_text. Confusion Matrix not logged.\n"
     ]
    },
    {
     "data": {
      "application/vnd.jupyter.widget-view+json": {
       "model_id": "6727e00951034ae78a9e5eb573945ee3",
       "version_major": 2,
       "version_minor": 0
      },
      "text/plain": [
       "Validation: |          | 0/? [00:00<?, ?it/s]"
      ]
     },
     "metadata": {},
     "output_type": "display_data"
    },
    {
     "name": "stdout",
     "output_type": "stream",
     "text": [
      "Confusion Matrix:\n",
      " [[15  0  2  0  0  1  0  0  0  2]\n",
      " [ 0 19  0  0  0  1  0  0  0  0]\n",
      " [ 0  0 20  0  0  0  0  0  0  0]\n",
      " [ 6  0  2  3  1  1  0  2  1  4]\n",
      " [ 1  0  1  0 16  0  1  0  0  1]\n",
      " [ 0  1  0  0  0 19  0  0  0  0]\n",
      " [ 1  1  0  0  0  1 15  0  0  2]\n",
      " [ 0  0  2  1  2  0  0 13  0  2]\n",
      " [ 3  0  1  1  0  0  0  0  7  8]\n",
      " [ 2  0  9  0  0  0  0  1  0  8]]\n",
      "Logger does not support add_text. Confusion Matrix not logged.\n"
     ]
    },
    {
     "data": {
      "application/vnd.jupyter.widget-view+json": {
       "model_id": "1f8e7721012b4a4dab1cd0a11ec623d8",
       "version_major": 2,
       "version_minor": 0
      },
      "text/plain": [
       "Validation: |          | 0/? [00:00<?, ?it/s]"
      ]
     },
     "metadata": {},
     "output_type": "display_data"
    },
    {
     "name": "stdout",
     "output_type": "stream",
     "text": [
      "Confusion Matrix:\n",
      " [[11  0  0  2  0  1  4  0  1  1]\n",
      " [ 1 19  0  0  0  0  0  0  0  0]\n",
      " [ 0  1 16  2  0  0  0  0  0  1]\n",
      " [ 0  1  0 12  0  1  0  1  4  1]\n",
      " [ 0  0  0  0 17  0  2  0  1  0]\n",
      " [ 3  2  0  0  0 14  1  0  0  0]\n",
      " [ 0  1  0  0  0  0 18  0  0  1]\n",
      " [ 0  2  0  6  0  1  0  7  4  0]\n",
      " [ 0  0  1  3  0  0  0  0 16  0]\n",
      " [ 0  3  0  1  0  1  7  2  0  6]]\n",
      "Logger does not support add_text. Confusion Matrix not logged.\n"
     ]
    },
    {
     "data": {
      "application/vnd.jupyter.widget-view+json": {
       "model_id": "41e75eeff7864241b0ffe667eec15268",
       "version_major": 2,
       "version_minor": 0
      },
      "text/plain": [
       "Validation: |          | 0/? [00:00<?, ?it/s]"
      ]
     },
     "metadata": {},
     "output_type": "display_data"
    },
    {
     "name": "stdout",
     "output_type": "stream",
     "text": [
      "Confusion Matrix:\n",
      " [[ 9  0  1  1  0  2  0  0  3  4]\n",
      " [ 0 20  0  0  0  0  0  0  0  0]\n",
      " [ 0  0 17  0  0  2  0  0  0  1]\n",
      " [ 0  0  0  9  3  0  0  1  1  6]\n",
      " [ 0  0  1  0 19  0  0  0  0  0]\n",
      " [ 0  1  0  0  0 19  0  0  0  0]\n",
      " [ 1  0  0  1  0  0  7  0  0 11]\n",
      " [ 1  0  0  1  3  1  0 14  0  0]\n",
      " [ 0  0  0  1  2  0  0  0 14  3]\n",
      " [ 0  0  3  0  1  2  0  3  1 10]]\n",
      "Logger does not support add_text. Confusion Matrix not logged.\n"
     ]
    },
    {
     "data": {
      "application/vnd.jupyter.widget-view+json": {
       "model_id": "a96c867471374393aedc37fc29c9c7bf",
       "version_major": 2,
       "version_minor": 0
      },
      "text/plain": [
       "Validation: |          | 0/? [00:00<?, ?it/s]"
      ]
     },
     "metadata": {},
     "output_type": "display_data"
    },
    {
     "name": "stdout",
     "output_type": "stream",
     "text": [
      "Confusion Matrix:\n",
      " [[12  0  1  1  0  1  1  0  1  3]\n",
      " [ 0 20  0  0  0  0  0  0  0  0]\n",
      " [ 1  1 17  1  0  0  0  0  0  0]\n",
      " [ 1  0  1  9  3  0  0  2  3  1]\n",
      " [ 0  0  0  0 20  0  0  0  0  0]\n",
      " [ 1  1  0  0  0 18  0  0  0  0]\n",
      " [ 1  0  0  1  1  0 17  0  0  0]\n",
      " [ 0  0  0  0  4  0  0 15  0  1]\n",
      " [ 1  0  1  1  2  0  0  0 15  0]\n",
      " [ 0  1  2  0  1  2  0  5  1  8]]\n",
      "Logger does not support add_text. Confusion Matrix not logged.\n"
     ]
    },
    {
     "data": {
      "application/vnd.jupyter.widget-view+json": {
       "model_id": "42ebfd08390e4f25b6f1432b01f7a328",
       "version_major": 2,
       "version_minor": 0
      },
      "text/plain": [
       "Validation: |          | 0/? [00:00<?, ?it/s]"
      ]
     },
     "metadata": {},
     "output_type": "display_data"
    },
    {
     "name": "stdout",
     "output_type": "stream",
     "text": [
      "Confusion Matrix:\n",
      " [[ 8  0  4  0  0  1  1  0  2  4]\n",
      " [ 0 19  0  0  0  1  0  0  0  0]\n",
      " [ 0  0 16  0  0  3  0  0  0  1]\n",
      " [ 2  0  1  6  1  0  1  1  3  5]\n",
      " [ 0  0  0  0 12  0  2  1  1  4]\n",
      " [ 0  1  0  0  0 19  0  0  0  0]\n",
      " [ 0  0  0  0  0  0 19  0  0  1]\n",
      " [ 0  0  1  0  1  1  0 11  1  5]\n",
      " [ 0  0  1  0  0  0  0  0 16  3]\n",
      " [ 0  0  1  0  0  2  0  1  0 16]]\n",
      "Logger does not support add_text. Confusion Matrix not logged.\n"
     ]
    },
    {
     "data": {
      "application/vnd.jupyter.widget-view+json": {
       "model_id": "4a1d720e5dda4214b3df40656a27e7ee",
       "version_major": 2,
       "version_minor": 0
      },
      "text/plain": [
       "Validation: |          | 0/? [00:00<?, ?it/s]"
      ]
     },
     "metadata": {},
     "output_type": "display_data"
    },
    {
     "name": "stdout",
     "output_type": "stream",
     "text": [
      "Confusion Matrix:\n",
      " [[14  1  2  0  0  1  1  0  1  0]\n",
      " [ 0 20  0  0  0  0  0  0  0  0]\n",
      " [ 0  0 19  0  0  0  0  0  0  1]\n",
      " [ 1  0  0  9  1  0  0  5  3  1]\n",
      " [ 0  0  0  0 16  0  0  4  0  0]\n",
      " [ 0  2  0  0  0 18  0  0  0  0]\n",
      " [ 2  0  0  2  0  0 16  0  0  0]\n",
      " [ 0  0  0  0  0  0  0 20  0  0]\n",
      " [ 1  0  1  1  0  0  0  3 13  1]\n",
      " [ 1  1  6  0  1  1  0  3  0  7]]\n",
      "Logger does not support add_text. Confusion Matrix not logged.\n"
     ]
    },
    {
     "data": {
      "application/vnd.jupyter.widget-view+json": {
       "model_id": "9375a8f0dab44aa18f900dabf324f491",
       "version_major": 2,
       "version_minor": 0
      },
      "text/plain": [
       "Validation: |          | 0/? [00:00<?, ?it/s]"
      ]
     },
     "metadata": {},
     "output_type": "display_data"
    },
    {
     "name": "stdout",
     "output_type": "stream",
     "text": [
      "Confusion Matrix:\n",
      " [[13  0  0  3  0  2  0  0  1  1]\n",
      " [ 1 18  0  0  0  1  0  0  0  0]\n",
      " [ 2  0 16  1  0  0  0  0  0  1]\n",
      " [ 0  0  1 11  3  0  0  3  0  2]\n",
      " [ 0  0  0  0 19  0  0  1  0  0]\n",
      " [ 0  1  0  0  0 19  0  0  0  0]\n",
      " [ 1  0  0  2  1  0 15  0  0  1]\n",
      " [ 0  1  1  0  1  0  0 17  0  0]\n",
      " [ 0  0  1  1  1  0  0  5 10  2]\n",
      " [ 1  0  2  0  1  1  0  4  0 11]]\n",
      "Logger does not support add_text. Confusion Matrix not logged.\n"
     ]
    },
    {
     "data": {
      "application/vnd.jupyter.widget-view+json": {
       "model_id": "2f2d363848614a0fa976e018231a28b4",
       "version_major": 2,
       "version_minor": 0
      },
      "text/plain": [
       "Validation: |          | 0/? [00:00<?, ?it/s]"
      ]
     },
     "metadata": {},
     "output_type": "display_data"
    },
    {
     "name": "stdout",
     "output_type": "stream",
     "text": [
      "Confusion Matrix:\n",
      " [[14  0  0  2  0  0  2  0  1  1]\n",
      " [ 1 16  1  0  0  0  0  0  0  2]\n",
      " [ 1  0 15  2  0  0  0  1  0  1]\n",
      " [ 1  0  1 14  0  0  0  1  3  0]\n",
      " [ 1  0  0  0 12  0  2  4  0  1]\n",
      " [ 0  1  0  0  0 17  0  0  1  1]\n",
      " [ 1  0  0  2  0  0 16  0  0  1]\n",
      " [ 0  0  0  0  1  0  0 17  2  0]\n",
      " [ 0  0  1  1  2  0  0  0 16  0]\n",
      " [ 3  0  2  0  0  1  3  2  1  8]]\n",
      "Logger does not support add_text. Confusion Matrix not logged.\n"
     ]
    },
    {
     "data": {
      "application/vnd.jupyter.widget-view+json": {
       "model_id": "d3ace975de3d4b68af24a1ed4ca1f8ae",
       "version_major": 2,
       "version_minor": 0
      },
      "text/plain": [
       "Validation: |          | 0/? [00:00<?, ?it/s]"
      ]
     },
     "metadata": {},
     "output_type": "display_data"
    },
    {
     "name": "stdout",
     "output_type": "stream",
     "text": [
      "Confusion Matrix:\n",
      " [[18  0  0  0  1  1  0  0  0  0]\n",
      " [ 0 20  0  0  0  0  0  0  0  0]\n",
      " [ 1  1 16  0  0  1  0  0  0  1]\n",
      " [ 4  0  0  6  1  0  0  3  4  2]\n",
      " [ 1  0  1  0 13  0  1  2  0  2]\n",
      " [ 0  1  0  0  0 19  0  0  0  0]\n",
      " [ 2  0  0  0  0  0 16  0  0  2]\n",
      " [ 0  0  0  0  0  0  0 19  0  1]\n",
      " [ 2  0  1  0  0  0  0  2 12  3]\n",
      " [ 7  0  0  0  0  2  0  3  0  8]]\n",
      "Logger does not support add_text. Confusion Matrix not logged.\n"
     ]
    },
    {
     "data": {
      "application/vnd.jupyter.widget-view+json": {
       "model_id": "9b5c9924fba9443694fa4e648d638228",
       "version_major": 2,
       "version_minor": 0
      },
      "text/plain": [
       "Validation: |          | 0/? [00:00<?, ?it/s]"
      ]
     },
     "metadata": {},
     "output_type": "display_data"
    },
    {
     "name": "stdout",
     "output_type": "stream",
     "text": [
      "Confusion Matrix:\n",
      " [[14  0  1  1  0  1  2  0  0  1]\n",
      " [ 0 19  0  0  0  0  0  1  0  0]\n",
      " [ 0  0 18  1  0  0  0  1  0  0]\n",
      " [ 0  0  0 11  2  0  1  3  2  1]\n",
      " [ 0  0  0  0 19  0  0  0  1  0]\n",
      " [ 0  1  0  0  0 18  1  0  0  0]\n",
      " [ 1  0  0  0  0  0 18  0  0  1]\n",
      " [ 0  0  0  0  0  0  0 20  0  0]\n",
      " [ 0  0  2  2  2  0  0  1 11  2]\n",
      " [ 1  1  1  0  1  2  0  5  0  9]]\n",
      "Logger does not support add_text. Confusion Matrix not logged.\n"
     ]
    },
    {
     "data": {
      "application/vnd.jupyter.widget-view+json": {
       "model_id": "7ab9de4a6dbd4da7be19544010e591c8",
       "version_major": 2,
       "version_minor": 0
      },
      "text/plain": [
       "Validation: |          | 0/? [00:00<?, ?it/s]"
      ]
     },
     "metadata": {},
     "output_type": "display_data"
    },
    {
     "name": "stdout",
     "output_type": "stream",
     "text": [
      "Confusion Matrix:\n",
      " [[16  0  1  1  0  1  1  0  0  0]\n",
      " [ 0 20  0  0  0  0  0  0  0  0]\n",
      " [ 0  1 18  1  0  0  0  0  0  0]\n",
      " [ 0  0  0 12  1  0  0  2  3  2]\n",
      " [ 0  1  0  0 16  0  0  1  1  1]\n",
      " [ 0  1  0  0  0 18  1  0  0  0]\n",
      " [ 1  0  0  0  0  0 18  0  0  1]\n",
      " [ 0  0  0  0  0  0  0 19  1  0]\n",
      " [ 0  0  1  2  0  0  0  1 14  2]\n",
      " [ 2  0  2  0  0  1  0  5  1  9]]\n",
      "Logger does not support add_text. Confusion Matrix not logged.\n"
     ]
    },
    {
     "data": {
      "application/vnd.jupyter.widget-view+json": {
       "model_id": "373f2597b8104bc6b8aed9cfee933db9",
       "version_major": 2,
       "version_minor": 0
      },
      "text/plain": [
       "Validation: |          | 0/? [00:00<?, ?it/s]"
      ]
     },
     "metadata": {},
     "output_type": "display_data"
    },
    {
     "name": "stdout",
     "output_type": "stream",
     "text": [
      "Confusion Matrix:\n",
      " [[13  0  1  1  0  1  1  0  1  2]\n",
      " [ 0 20  0  0  0  0  0  0  0  0]\n",
      " [ 1  1 17  1  0  0  0  0  0  0]\n",
      " [ 0  0  0 12  1  1  0  2  1  3]\n",
      " [ 0  0  0  0 18  0  0  0  0  2]\n",
      " [ 0  1  0  0  0 19  0  0  0  0]\n",
      " [ 1  0  0  0  0  0 18  0  0  1]\n",
      " [ 0  0  0  0  1  0  0 18  0  1]\n",
      " [ 0  0  1  2  2  0  0  1 12  2]\n",
      " [ 1  0  0  0  1  0  0  5  1 12]]\n",
      "Logger does not support add_text. Confusion Matrix not logged.\n"
     ]
    },
    {
     "data": {
      "application/vnd.jupyter.widget-view+json": {
       "model_id": "da03a64004ce4f12ae67e436e6d721c9",
       "version_major": 2,
       "version_minor": 0
      },
      "text/plain": [
       "Validation: |          | 0/? [00:00<?, ?it/s]"
      ]
     },
     "metadata": {},
     "output_type": "display_data"
    },
    {
     "name": "stdout",
     "output_type": "stream",
     "text": [
      "Confusion Matrix:\n",
      " [[18  0  0  1  0  0  0  0  0  1]\n",
      " [ 0 20  0  0  0  0  0  0  0  0]\n",
      " [ 1  1 17  1  0  0  0  0  0  0]\n",
      " [ 0  0  0 13  1  1  0  2  2  1]\n",
      " [ 0  0  0  0 19  0  0  0  1  0]\n",
      " [ 0  1  0  0  0 19  0  0  0  0]\n",
      " [ 1  0  0  2  2  0 14  0  0  1]\n",
      " [ 0  0  0  0  1  0  0 18  1  0]\n",
      " [ 0  0  1  1  1  0  0  1 14  2]\n",
      " [ 1  0  0  0  1  1  0  4  0 13]]\n",
      "Logger does not support add_text. Confusion Matrix not logged.\n"
     ]
    },
    {
     "data": {
      "application/vnd.jupyter.widget-view+json": {
       "model_id": "d903533e9ec443b1aa94b1ab49ac8485",
       "version_major": 2,
       "version_minor": 0
      },
      "text/plain": [
       "Validation: |          | 0/? [00:00<?, ?it/s]"
      ]
     },
     "metadata": {},
     "output_type": "display_data"
    },
    {
     "name": "stdout",
     "output_type": "stream",
     "text": [
      "Confusion Matrix:\n",
      " [[16  0  0  1  0  2  1  0  0  0]\n",
      " [ 0 20  0  0  0  0  0  0  0  0]\n",
      " [ 1  0 17  1  0  0  0  0  0  1]\n",
      " [ 2  0  0 13  0  0  0  3  1  1]\n",
      " [ 0  0  1  0 17  0  1  1  0  0]\n",
      " [ 0  1  0  0  0 19  0  0  0  0]\n",
      " [ 1  0  0  1  0  0 17  0  0  1]\n",
      " [ 0  1  0  0  1  0  0 18  0  0]\n",
      " [ 2  0  1  2  1  0  0  1 13  0]\n",
      " [ 1  1  3  0  1  1  0  3  0 10]]\n",
      "Logger does not support add_text. Confusion Matrix not logged.\n"
     ]
    },
    {
     "data": {
      "application/vnd.jupyter.widget-view+json": {
       "model_id": "6f9e7e5456f74381985968695dd9cc4c",
       "version_major": 2,
       "version_minor": 0
      },
      "text/plain": [
       "Validation: |          | 0/? [00:00<?, ?it/s]"
      ]
     },
     "metadata": {},
     "output_type": "display_data"
    },
    {
     "name": "stdout",
     "output_type": "stream",
     "text": [
      "Confusion Matrix:\n",
      " [[13  0  3  1  0  1  1  0  1  0]\n",
      " [ 0 20  0  0  0  0  0  0  0  0]\n",
      " [ 0  0 18  1  0  1  0  0  0  0]\n",
      " [ 0  0  0 15  0  0  0  1  3  1]\n",
      " [ 0  0  0  0 17  0  1  0  1  1]\n",
      " [ 0  1  0  0  0 19  0  0  0  0]\n",
      " [ 1  0  0  0  0  0 18  0  0  1]\n",
      " [ 0  1  0  0  2  0  0 16  1  0]\n",
      " [ 0  0  2  1  0  0  0  1 16  0]\n",
      " [ 0  0  3  0  0  1  0  3  1 12]]\n",
      "Logger does not support add_text. Confusion Matrix not logged.\n"
     ]
    },
    {
     "data": {
      "application/vnd.jupyter.widget-view+json": {
       "model_id": "2a37f2c8542741749f62376053a543df",
       "version_major": 2,
       "version_minor": 0
      },
      "text/plain": [
       "Validation: |          | 0/? [00:00<?, ?it/s]"
      ]
     },
     "metadata": {},
     "output_type": "display_data"
    },
    {
     "name": "stdout",
     "output_type": "stream",
     "text": [
      "Confusion Matrix:\n",
      " [[16  0  0  1  0  1  1  0  1  0]\n",
      " [ 0 20  0  0  0  0  0  0  0  0]\n",
      " [ 1  0 17  1  0  1  0  0  0  0]\n",
      " [ 0  0  0 16  2  0  0  1  0  1]\n",
      " [ 0  0  0  0 18  0  2  0  0  0]\n",
      " [ 0  1  0  0  0 19  0  0  0  0]\n",
      " [ 1  0  0  0  0  0 18  0  0  1]\n",
      " [ 0  0  0  0  2  0  0 17  1  0]\n",
      " [ 0  0  1  1  1  0  0  1 15  1]\n",
      " [ 1  0  0  0  1  1  0  4  0 13]]\n",
      "Logger does not support add_text. Confusion Matrix not logged.\n"
     ]
    },
    {
     "data": {
      "application/vnd.jupyter.widget-view+json": {
       "model_id": "ee020f74b9834e31a986ae454e4aa0a5",
       "version_major": 2,
       "version_minor": 0
      },
      "text/plain": [
       "Validation: |          | 0/? [00:00<?, ?it/s]"
      ]
     },
     "metadata": {},
     "output_type": "display_data"
    },
    {
     "name": "stdout",
     "output_type": "stream",
     "text": [
      "Confusion Matrix:\n",
      " [[17  0  0  1  0  1  1  0  0  0]\n",
      " [ 0 20  0  0  0  0  0  0  0  0]\n",
      " [ 0  0 18  1  0  1  0  0  0  0]\n",
      " [ 0  0  0 15  2  1  0  1  0  1]\n",
      " [ 0  0  0  0 18  0  2  0  0  0]\n",
      " [ 0  1  0  0  0 19  0  0  0  0]\n",
      " [ 1  0  0  0  0  0 18  0  0  1]\n",
      " [ 0  0  0  0  2  0  0 17  1  0]\n",
      " [ 0  0  1  2  2  0  0  0 13  2]\n",
      " [ 1  1  0  0  1  1  0  4  0 12]]\n",
      "Logger does not support add_text. Confusion Matrix not logged.\n"
     ]
    },
    {
     "data": {
      "application/vnd.jupyter.widget-view+json": {
       "model_id": "b2cc800f98d74729ad84b36f4f7eed01",
       "version_major": 2,
       "version_minor": 0
      },
      "text/plain": [
       "Validation: |          | 0/? [00:00<?, ?it/s]"
      ]
     },
     "metadata": {},
     "output_type": "display_data"
    },
    {
     "name": "stdout",
     "output_type": "stream",
     "text": [
      "Confusion Matrix:\n",
      " [[15  0  0  1  0  2  1  0  0  1]\n",
      " [ 0 20  0  0  0  0  0  0  0  0]\n",
      " [ 1  0 17  1  0  1  0  0  0  0]\n",
      " [ 1  0  0 14  2  0  0  1  0  2]\n",
      " [ 0  0  0  0 19  0  1  0  0  0]\n",
      " [ 0  1  0  0  0 19  0  0  0  0]\n",
      " [ 1  0  0  0  0  0 18  0  0  1]\n",
      " [ 0  0  0  0  2  0  0 17  1  0]\n",
      " [ 1  0  1  2  2  0  0  0 12  2]\n",
      " [ 1  0  0  0  1  1  0  5  0 12]]\n",
      "Logger does not support add_text. Confusion Matrix not logged.\n"
     ]
    },
    {
     "data": {
      "application/vnd.jupyter.widget-view+json": {
       "model_id": "cc044d074a0045f1876e2bf058ca45d4",
       "version_major": 2,
       "version_minor": 0
      },
      "text/plain": [
       "Validation: |          | 0/? [00:00<?, ?it/s]"
      ]
     },
     "metadata": {},
     "output_type": "display_data"
    },
    {
     "name": "stdout",
     "output_type": "stream",
     "text": [
      "Confusion Matrix:\n",
      " [[12  0  1  1  0  1  1  0  0  4]\n",
      " [ 0 20  0  0  0  0  0  0  0  0]\n",
      " [ 0  0 18  1  0  1  0  0  0  0]\n",
      " [ 0  0  0 16  2  0  0  1  0  1]\n",
      " [ 0  0  0  0 17  0  2  0  0  1]\n",
      " [ 0  1  0  0  0 19  0  0  0  0]\n",
      " [ 1  0  0  0  0  0 18  0  0  1]\n",
      " [ 0  0  0  0  2  0  0 17  1  0]\n",
      " [ 0  0  1  1  1  0  0  1 13  3]\n",
      " [ 0  0  1  0  1  1  0  3  0 14]]\n",
      "Logger does not support add_text. Confusion Matrix not logged.\n"
     ]
    },
    {
     "data": {
      "application/vnd.jupyter.widget-view+json": {
       "model_id": "d4622fa3521942e386f3dcfcd5627e68",
       "version_major": 2,
       "version_minor": 0
      },
      "text/plain": [
       "Validation: |          | 0/? [00:00<?, ?it/s]"
      ]
     },
     "metadata": {},
     "output_type": "display_data"
    },
    {
     "name": "stdout",
     "output_type": "stream",
     "text": [
      "Confusion Matrix:\n",
      " [[11  0  1  1  0  5  0  0  0  2]\n",
      " [ 0 19  0  0  0  1  0  0  0  0]\n",
      " [ 0  0 17  1  0  2  0  0  0  0]\n",
      " [ 0  0  0 15  2  0  0  2  0  1]\n",
      " [ 0  0  0  0 19  0  0  0  0  1]\n",
      " [ 0  1  0  0  0 19  0  0  0  0]\n",
      " [ 1  0  0  0  0  0 18  0  0  1]\n",
      " [ 0  0  0  0  3  0  0 15  1  1]\n",
      " [ 0  0  1  3  1  0  0  1 11  3]\n",
      " [ 0  0  1  0  1  1  0  3  0 14]]\n",
      "Logger does not support add_text. Confusion Matrix not logged.\n"
     ]
    },
    {
     "data": {
      "application/vnd.jupyter.widget-view+json": {
       "model_id": "9cdbadf9c85841dc80ec49668d0fd617",
       "version_major": 2,
       "version_minor": 0
      },
      "text/plain": [
       "Validation: |          | 0/? [00:00<?, ?it/s]"
      ]
     },
     "metadata": {},
     "output_type": "display_data"
    },
    {
     "name": "stdout",
     "output_type": "stream",
     "text": [
      "Confusion Matrix:\n",
      " [[15  0  0  1  0  1  1  0  0  2]\n",
      " [ 0 20  0  0  0  0  0  0  0  0]\n",
      " [ 0  1 17  0  0  0  0  0  0  2]\n",
      " [ 1  0  0 12  2  1  0  2  0  2]\n",
      " [ 0  0  0  0 16  0  2  0  1  1]\n",
      " [ 0  1  0  0  0 19  0  0  0  0]\n",
      " [ 1  0  0  0  0  0 18  0  0  1]\n",
      " [ 0  0  0  0  2  0  0 16  1  1]\n",
      " [ 0  0  1  2  1  0  0  0 13  3]\n",
      " [ 0  0  2  0  1  1  0  2  0 14]]\n",
      "Logger does not support add_text. Confusion Matrix not logged.\n"
     ]
    },
    {
     "data": {
      "application/vnd.jupyter.widget-view+json": {
       "model_id": "4d7d12a9a2b44959ab6a5220ba61c4a6",
       "version_major": 2,
       "version_minor": 0
      },
      "text/plain": [
       "Validation: |          | 0/? [00:00<?, ?it/s]"
      ]
     },
     "metadata": {},
     "output_type": "display_data"
    },
    {
     "name": "stdout",
     "output_type": "stream",
     "text": [
      "Confusion Matrix:\n",
      " [[14  0  1  1  0  1  1  0  0  2]\n",
      " [ 0 20  0  0  0  0  0  0  0  0]\n",
      " [ 0  1 18  1  0  0  0  0  0  0]\n",
      " [ 0  0  0 13  2  1  0  2  0  2]\n",
      " [ 0  0  0  0 16  0  2  0  1  1]\n",
      " [ 0  1  0  0  0 19  0  0  0  0]\n",
      " [ 1  0  0  0  0  0 18  0  0  1]\n",
      " [ 0  0  0  0  2  0  0 16  1  1]\n",
      " [ 0  0  1  1  1  0  0  0 14  3]\n",
      " [ 0  0  1  0  1  1  0  3  0 14]]\n",
      "Logger does not support add_text. Confusion Matrix not logged.\n"
     ]
    },
    {
     "data": {
      "application/vnd.jupyter.widget-view+json": {
       "model_id": "1027bca37e8c48b8b034357f7fd3e43b",
       "version_major": 2,
       "version_minor": 0
      },
      "text/plain": [
       "Validation: |          | 0/? [00:00<?, ?it/s]"
      ]
     },
     "metadata": {},
     "output_type": "display_data"
    },
    {
     "name": "stdout",
     "output_type": "stream",
     "text": [
      "Confusion Matrix:\n",
      " [[17  0  0  1  0  1  1  0  0  0]\n",
      " [ 0 20  0  0  0  0  0  0  0  0]\n",
      " [ 0  1 18  1  0  0  0  0  0  0]\n",
      " [ 0  0  0 13  2  1  0  2  0  2]\n",
      " [ 0  0  0  0 18  0  1  0  0  1]\n",
      " [ 0  1  0  0  0 19  0  0  0  0]\n",
      " [ 1  0  0  0  0  0 18  0  0  1]\n",
      " [ 0  0  0  0  2  0  0 17  1  0]\n",
      " [ 0  0  1  1  1  0  0  0 15  2]\n",
      " [ 0  0  1  0  1  1  0  3  0 14]]\n",
      "Logger does not support add_text. Confusion Matrix not logged.\n"
     ]
    },
    {
     "data": {
      "application/vnd.jupyter.widget-view+json": {
       "model_id": "3008003655914df7a2bd5d05f1170057",
       "version_major": 2,
       "version_minor": 0
      },
      "text/plain": [
       "Validation: |          | 0/? [00:00<?, ?it/s]"
      ]
     },
     "metadata": {},
     "output_type": "display_data"
    },
    {
     "name": "stdout",
     "output_type": "stream",
     "text": [
      "Confusion Matrix:\n",
      " [[17  0  0  1  0  1  1  0  0  0]\n",
      " [ 0 20  0  0  0  0  0  0  0  0]\n",
      " [ 1  1 17  1  0  0  0  0  0  0]\n",
      " [ 0  0  0 12  2  1  2  1  0  2]\n",
      " [ 0  0  0  0 17  0  2  0  0  1]\n",
      " [ 0  1  0  0  0 19  0  0  0  0]\n",
      " [ 1  0  0  0  0  0 18  0  0  1]\n",
      " [ 0  0  0  0  3  0  0 17  0  0]\n",
      " [ 0  0  1  1  2  0  0  0 14  2]\n",
      " [ 1  0  0  0  1  1  0  3  0 14]]\n",
      "Logger does not support add_text. Confusion Matrix not logged.\n"
     ]
    },
    {
     "data": {
      "application/vnd.jupyter.widget-view+json": {
       "model_id": "705bd5ceeead40efb5a3ef0d12152f7f",
       "version_major": 2,
       "version_minor": 0
      },
      "text/plain": [
       "Validation: |          | 0/? [00:00<?, ?it/s]"
      ]
     },
     "metadata": {},
     "output_type": "display_data"
    },
    {
     "name": "stdout",
     "output_type": "stream",
     "text": [
      "Confusion Matrix:\n",
      " [[17  0  0  1  0  1  1  0  0  0]\n",
      " [ 0 20  0  0  0  0  0  0  0  0]\n",
      " [ 1  1 17  1  0  0  0  0  0  0]\n",
      " [ 0  0  0 14  2  0  1  1  0  2]\n",
      " [ 0  0  0  0 18  0  1  0  0  1]\n",
      " [ 0  1  0  0  0 19  0  0  0  0]\n",
      " [ 1  0  0  0  0  0 18  0  0  1]\n",
      " [ 0  0  0  0  3  0  0 17  0  0]\n",
      " [ 0  0  1  2  1  0  0  0 14  2]\n",
      " [ 1  0  0  0  1  1  0  3  0 14]]\n",
      "Logger does not support add_text. Confusion Matrix not logged.\n"
     ]
    },
    {
     "name": "stderr",
     "output_type": "stream",
     "text": [
      "INFO:pytorch_lightning.utilities.rank_zero:`Trainer.fit` stopped: `max_epochs=30` reached.\n",
      "INFO:pytorch_lightning.accelerators.cuda:LOCAL_RANK: 0 - CUDA_VISIBLE_DEVICES: [0]\n",
      "/usr/local/lib/python3.11/dist-packages/torch/utils/data/dataloader.py:624: UserWarning: This DataLoader will create 4 worker processes in total. Our suggested max number of worker in current system is 2, which is smaller than what this DataLoader is going to create. Please be aware that excessive worker creation might get DataLoader running slow or even freeze, lower the worker number to avoid potential slowness/freeze if necessary.\n",
      "  warnings.warn(\n"
     ]
    },
    {
     "data": {
      "application/vnd.jupyter.widget-view+json": {
       "model_id": "45e85d110662498c8ca6d71e56294f4a",
       "version_major": 2,
       "version_minor": 0
      },
      "text/plain": [
       "Validation: |          | 0/? [00:00<?, ?it/s]"
      ]
     },
     "metadata": {},
     "output_type": "display_data"
    },
    {
     "name": "stdout",
     "output_type": "stream",
     "text": [
      "Confusion Matrix:\n",
      " [[17  0  0  1  0  1  1  0  0  0]\n",
      " [ 0 20  0  0  0  0  0  0  0  0]\n",
      " [ 1  1 17  1  0  0  0  0  0  0]\n",
      " [ 0  0  0 14  2  0  1  1  0  2]\n",
      " [ 0  0  0  0 18  0  1  0  0  1]\n",
      " [ 0  1  0  0  0 19  0  0  0  0]\n",
      " [ 1  0  0  0  0  0 18  0  0  1]\n",
      " [ 0  0  0  0  3  0  0 17  0  0]\n",
      " [ 0  0  1  2  1  0  0  0 14  2]\n",
      " [ 1  0  0  0  1  1  0  3  0 14]]\n",
      "Logger does not support add_text. Confusion Matrix not logged.\n"
     ]
    },
    {
     "data": {
      "text/html": [
       "<pre style=\"white-space:pre;overflow-x:auto;line-height:normal;font-family:Menlo,'DejaVu Sans Mono',consolas,'Courier New',monospace\">┏━━━━━━━━━━━━━━━━━━━━━━━━━━━┳━━━━━━━━━━━━━━━━━━━━━━━━━━━┓\n",
       "┃<span style=\"font-weight: bold\">      Validate metric      </span>┃<span style=\"font-weight: bold\">       DataLoader 0        </span>┃\n",
       "┡━━━━━━━━━━━━━━━━━━━━━━━━━━━╇━━━━━━━━━━━━━━━━━━━━━━━━━━━┩\n",
       "│<span style=\"color: #008080; text-decoration-color: #008080\">          val_acc          </span>│<span style=\"color: #800080; text-decoration-color: #800080\">    0.8399999737739563     </span>│\n",
       "│<span style=\"color: #008080; text-decoration-color: #008080\">         val_loss          </span>│<span style=\"color: #800080; text-decoration-color: #800080\">    0.6989119648933411     </span>│\n",
       "└───────────────────────────┴───────────────────────────┘\n",
       "</pre>\n"
      ],
      "text/plain": [
       "┏━━━━━━━━━━━━━━━━━━━━━━━━━━━┳━━━━━━━━━━━━━━━━━━━━━━━━━━━┓\n",
       "┃\u001b[1m \u001b[0m\u001b[1m     Validate metric     \u001b[0m\u001b[1m \u001b[0m┃\u001b[1m \u001b[0m\u001b[1m      DataLoader 0       \u001b[0m\u001b[1m \u001b[0m┃\n",
       "┡━━━━━━━━━━━━━━━━━━━━━━━━━━━╇━━━━━━━━━━━━━━━━━━━━━━━━━━━┩\n",
       "│\u001b[36m \u001b[0m\u001b[36m         val_acc         \u001b[0m\u001b[36m \u001b[0m│\u001b[35m \u001b[0m\u001b[35m   0.8399999737739563    \u001b[0m\u001b[35m \u001b[0m│\n",
       "│\u001b[36m \u001b[0m\u001b[36m        val_loss         \u001b[0m\u001b[36m \u001b[0m│\u001b[35m \u001b[0m\u001b[35m   0.6989119648933411    \u001b[0m\u001b[35m \u001b[0m│\n",
       "└───────────────────────────┴───────────────────────────┘\n"
      ]
     },
     "metadata": {},
     "output_type": "display_data"
    },
    {
     "name": "stdout",
     "output_type": "stream",
     "text": [
      "Validation results: [{'val_loss': 0.6989119648933411, 'val_acc': 0.8399999737739563}]\n"
     ]
    }
   ],
   "source": [
    "# ----------------------------\n",
    "# Step 10: Train and validate the model\n",
    "# ----------------------------\n",
    "trainer.fit(model, train_loader, val_loader)\n",
    "results = trainer.validate(model, dataloaders=val_loader)\n",
    "print(\"Validation results:\", results)"
   ]
  }
 ],
 "metadata": {
  "accelerator": "GPU",
  "colab": {
   "gpuType": "T4",
   "provenance": []
  },
  "kernelspec": {
   "display_name": "venv",
   "language": "python",
   "name": "python3"
  },
  "language_info": {
   "name": "python",
   "version": "3.10.1"
  }
 },
 "nbformat": 4,
 "nbformat_minor": 0
}
