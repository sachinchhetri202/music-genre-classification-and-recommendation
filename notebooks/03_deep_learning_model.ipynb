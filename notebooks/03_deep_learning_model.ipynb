{
  "cells": [
    {
      "cell_type": "code",
      "execution_count": null,
      "metadata": {
        "id": "_q0Mmam-pAVM"
      },
      "outputs": [],
      "source": [
        "!pip install torch torchvision torchaudio pytorch-lightning scikit-learn pandas soundfile tensorboard tensorboardX"
      ]
    },
    {
      "cell_type": "code",
      "execution_count": null,
      "metadata": {
        "id": "gjoh5HmspI2b"
      },
      "outputs": [],
      "source": [
        "from google.colab import drive\n",
        "drive.mount('/content/drive')"
      ]
    },
    {
      "cell_type": "code",
      "execution_count": 1,
      "metadata": {
        "id": "v8oICAgbpLY4"
      },
      "outputs": [],
      "source": [
        "import os\n",
        "import pandas as pd\n",
        "import torch\n",
        "import torch.nn as nn\n",
        "import torch.nn.functional as F\n",
        "import torchaudio\n",
        "from torch.utils.data import Dataset, DataLoader\n",
        "import pytorch_lightning as pl\n",
        "from pytorch_lightning import Trainer\n",
        "from sklearn.model_selection import train_test_split\n",
        "from sklearn.preprocessing import LabelEncoder\n",
        "import torchvision.models as models\n",
        "from sklearn.metrics import confusion_matrix  # New import for confusion matrix\n",
        "from pytorch_lightning.loggers import TensorBoardLogger\n",
        "import tensorboard\n",
        "import tensorboardX\n",
        "from pytorch_lightning.loggers import CSVLogger\n",
        "logger = CSVLogger(\"logs\", name=\"my_model\")"
      ]
    },
    {
      "cell_type": "code",
      "execution_count": 2,
      "metadata": {
        "id": "0jAyEzAzqoT6"
      },
      "outputs": [
        {
          "name": "stderr",
          "output_type": "stream",
          "text": [
            "C:\\Users\\sachi\\AppData\\Local\\Temp\\ipykernel_55004\\4069265493.py:2: UserWarning: torchaudio._backend.set_audio_backend has been deprecated. With dispatcher enabled, this function is no-op. You can remove the function call.\n",
            "  torchaudio.set_audio_backend(\"soundfile\")\n"
          ]
        }
      ],
      "source": [
        "# Set torchaudio backend (this call is deprecated but needed for .au files)\n",
        "torchaudio.set_audio_backend(\"soundfile\")"
      ]
    },
    {
      "cell_type": "code",
      "execution_count": 3,
      "metadata": {
        "id": "HIItaFveqq4x"
      },
      "outputs": [
        {
          "name": "stdout",
          "output_type": "stream",
          "text": [
            "Is GPU available? False\n"
          ]
        }
      ],
      "source": [
        "# ----------------------------\n",
        "# Step 1: Check GPU availability\n",
        "# ----------------------------\n",
        "print(\"Is GPU available?\", torch.cuda.is_available())\n",
        "if torch.cuda.is_available():\n",
        "    print(\"GPU name:\", torch.cuda.get_device_name(0))"
      ]
    },
    {
      "cell_type": "code",
      "execution_count": 4,
      "metadata": {
        "id": "QYyoRkXFqtDv"
      },
      "outputs": [
        {
          "name": "stdout",
          "output_type": "stream",
          "text": [
            "Dataset loaded. Total files: 1000\n"
          ]
        }
      ],
      "source": [
        "# ----------------------------\n",
        "# Step 2: Load dataset from Google Drive\n",
        "# ----------------------------\n",
        "# Adjust the path below if your folder structure is different.\n",
        "dataset_path = '../datasets/GTZAN/'\n",
        "file_paths = []\n",
        "genres = []\n",
        "for root, _, files in os.walk(dataset_path):\n",
        "    for file in files:\n",
        "        if file.endswith('.au'):\n",
        "            file_paths.append(os.path.join(root, file))\n",
        "            genres.append(os.path.basename(root))  # Genre inferred from folder name\n",
        "\n",
        "df = pd.DataFrame({'file_path': file_paths, 'genre': genres})\n",
        "print(\"Dataset loaded. Total files:\", len(df))"
      ]
    },
    {
      "cell_type": "code",
      "execution_count": 5,
      "metadata": {
        "id": "qDge4pwwrT1z"
      },
      "outputs": [
        {
          "name": "stdout",
          "output_type": "stream",
          "text": [
            "Number of classes: 10\n"
          ]
        }
      ],
      "source": [
        "# ----------------------------\n",
        "# Step 3: Label encoding for genres\n",
        "# ----------------------------\n",
        "global_le = LabelEncoder()\n",
        "global_le.fit(df['genre'])\n",
        "num_classes = len(global_le.classes_)\n",
        "print(\"Number of classes:\", num_classes)"
      ]
    },
    {
      "cell_type": "code",
      "execution_count": 6,
      "metadata": {
        "id": "eMnilddbrVIH"
      },
      "outputs": [],
      "source": [
        "# ----------------------------\n",
        "# Step 4: Define the dataset class to compute mel-spectrograms\n",
        "# ----------------------------\n",
        "class GTZANDataset(Dataset):\n",
        "    def __init__(self, df, label_encoder, duration=10, n_mels=128, hop_length=256):\n",
        "        self.df = df.reset_index(drop=True)\n",
        "        self.duration = duration            # seconds of audio to load\n",
        "        self.n_mels = n_mels                # number of mel bins\n",
        "        self.hop_length = hop_length        # hop length for mel-spectrogram\n",
        "        self.sample_rate = 22050            # standard sample rate\n",
        "        self.le = label_encoder             # shared label encoder\n",
        "\n",
        "    def __len__(self):\n",
        "        return len(self.df)\n",
        "\n",
        "    def __getitem__(self, idx):\n",
        "        row = self.df.iloc[idx]\n",
        "        file_path = row['file_path']\n",
        "        try:\n",
        "            waveform, sr = torchaudio.load(file_path)\n",
        "            # Convert to mono if stereo\n",
        "            if waveform.shape[0] > 1:\n",
        "                waveform = torch.mean(waveform, dim=0, keepdim=True)\n",
        "            target_samples = self.sample_rate * self.duration\n",
        "            if waveform.shape[1] > target_samples:\n",
        "                waveform = waveform[:, :target_samples]\n",
        "            else:\n",
        "                waveform = F.pad(waveform, (0, target_samples - waveform.shape[1]))\n",
        "            # Compute mel-spectrogram and convert to decibel scale\n",
        "            mel_transform = torchaudio.transforms.MelSpectrogram(\n",
        "                sample_rate=self.sample_rate,\n",
        "                n_mels=self.n_mels,\n",
        "                n_fft=2048,\n",
        "                hop_length=self.hop_length\n",
        "            )\n",
        "            mel_spec = mel_transform(waveform)\n",
        "            mel_spec = torchaudio.transforms.AmplitudeToDB()(mel_spec)\n",
        "            # Rearrange to shape (time_steps, n_mels)\n",
        "            mel_spec = mel_spec.squeeze(0).T\n",
        "            label = torch.tensor(self.le.transform([row['genre']])[0], dtype=torch.long)\n",
        "            return mel_spec, label\n",
        "        except Exception as e:\n",
        "            print(f\"Error loading {file_path}: {e}\")\n",
        "            default_mel_spec = torch.zeros((self.duration * self.sample_rate // self.hop_length + 1, self.n_mels))\n",
        "            return default_mel_spec, torch.tensor(0, dtype=torch.long)\n"
      ]
    },
    {
      "cell_type": "code",
      "execution_count": 7,
      "metadata": {
        "id": "3BgT9QuGrarZ"
      },
      "outputs": [],
      "source": [
        "# ----------------------------\n",
        "# Step 5: Split the data into training and validation sets\n",
        "# ----------------------------\n",
        "df_train, df_val = train_test_split(df, test_size=0.2, random_state=42, stratify=df['genre'])\n",
        "train_dataset = GTZANDataset(df_train, label_encoder=global_le, duration=10, n_mels=128, hop_length=256)\n",
        "val_dataset = GTZANDataset(df_val, label_encoder=global_le, duration=10, n_mels=128, hop_length=256)"
      ]
    },
    {
      "cell_type": "code",
      "execution_count": 9,
      "metadata": {
        "id": "NIiAcgcYrgqP"
      },
      "outputs": [],
      "source": [
        "# ----------------------------\n",
        "# Step 6: Create DataLoaders\n",
        "# ----------------------------\n",
        "batch_size = 8  # Adjust based on your GPU memory\n",
        "train_loader = DataLoader(train_dataset, batch_size=batch_size, shuffle=True, num_workers=0)\n",
        "val_loader = DataLoader(val_dataset, batch_size=batch_size, shuffle=False, num_workers=0)\n"
      ]
    },
    {
      "cell_type": "code",
      "execution_count": 10,
      "metadata": {
        "id": "vewIgU1MrjQt"
      },
      "outputs": [],
      "source": [
        "# ----------------------------\n",
        "# Step 7: Define the Transfer Learning Model using Pretrained EfficientNet-B3\n",
        "# ----------------------------\n",
        "class MusicEfficientNetB3(pl.LightningModule):\n",
        "    def __init__(self, num_classes, learning_rate=1e-3):\n",
        "        super(MusicEfficientNetB3, self).__init__()\n",
        "        self.save_hyperparameters()\n",
        "        self.learning_rate = learning_rate\n",
        "        # Load pretrained EfficientNet-B3\n",
        "        self.model = models.efficientnet_b3(pretrained=True)\n",
        "        # Modify the first conv layer to accept 1 channel instead of 3\n",
        "        self.model.features[0][0] = nn.Conv2d(\n",
        "            1,\n",
        "            self.model.features[0][0].out_channels,\n",
        "            kernel_size=self.model.features[0][0].kernel_size,\n",
        "            stride=self.model.features[0][0].stride,\n",
        "            padding=self.model.features[0][0].padding,\n",
        "            bias=False\n",
        "        )\n",
        "        # Replace the classifier to output the correct number of classes\n",
        "        in_features = self.model.classifier[1].in_features\n",
        "        self.model.classifier[1] = nn.Linear(in_features, num_classes)\n",
        "\n",
        "    def forward(self, x):\n",
        "        # x shape: (batch, time_steps, n_mels)\n",
        "        x = x.unsqueeze(1)  # Add channel dimension: (batch, 1, time_steps, n_mels)\n",
        "        # Resize to 300x300 to match EfficientNet-B3 input requirements\n",
        "        x = F.interpolate(x, size=(300, 300), mode=\"bilinear\", align_corners=False)\n",
        "        return self.model(x)\n",
        "\n",
        "    def training_step(self, batch, batch_idx):\n",
        "        x, y = batch\n",
        "        logits = self(x)\n",
        "        loss = F.cross_entropy(logits, y)\n",
        "        self.log(\"train_loss\", loss, on_step=True, on_epoch=True, prog_bar=True)\n",
        "        return loss\n",
        "\n",
        "    def on_validation_epoch_start(self):\n",
        "        # Initialize lists to accumulate predictions and targets\n",
        "        self.all_preds = []\n",
        "        self.all_targets = []\n",
        "\n",
        "    def validation_step(self, batch, batch_idx):\n",
        "        x, y = batch\n",
        "        logits = self(x)\n",
        "        loss = F.cross_entropy(logits, y)\n",
        "        preds = torch.argmax(logits, dim=1)\n",
        "        acc = (preds == y).float().mean()\n",
        "        # Accumulate predictions and targets\n",
        "        self.all_preds.append(preds)\n",
        "        self.all_targets.append(y)\n",
        "        self.log(\"val_loss\", loss, on_epoch=True, prog_bar=True)\n",
        "        self.log(\"val_acc\", acc, on_epoch=True, prog_bar=True)\n",
        "        return loss\n",
        "\n",
        "    def on_validation_epoch_end(self):\n",
        "        # Concatenate all predictions and targets\n",
        "        all_preds = torch.cat(self.all_preds)\n",
        "        all_targets = torch.cat(self.all_targets)\n",
        "        cm = confusion_matrix(all_targets.cpu().numpy(), all_preds.cpu().numpy())\n",
        "        print(\"Confusion Matrix:\\n\", cm)\n",
        "        # Log the confusion matrix if the logger supports add_text\n",
        "        if self.logger is not None and hasattr(self.logger.experiment, \"add_text\"):\n",
        "            self.logger.experiment.add_text(\"Confusion Matrix\", str(cm), self.current_epoch)\n",
        "        else:\n",
        "            print(\"Logger does not support add_text. Confusion Matrix not logged.\")\n",
        "\n",
        "    def configure_optimizers(self):\n",
        "        optimizer = torch.optim.Adam(self.parameters(), lr=self.learning_rate)\n",
        "        scheduler = torch.optim.lr_scheduler.ReduceLROnPlateau(optimizer, mode=\"min\", factor=0.5, patience=3)\n",
        "        return {\"optimizer\": optimizer, \"lr_scheduler\": {\"scheduler\": scheduler, \"monitor\": \"val_loss\"}}\n"
      ]
    },
    {
      "cell_type": "code",
      "execution_count": 11,
      "metadata": {
        "id": "zrOmtFLZrng4"
      },
      "outputs": [
        {
          "name": "stderr",
          "output_type": "stream",
          "text": [
            "c:\\Users\\sachi\\OneDrive\\Documents\\music-genre-classification-and-recommendation\\venv\\lib\\site-packages\\torchvision\\models\\_utils.py:208: UserWarning: The parameter 'pretrained' is deprecated since 0.13 and may be removed in the future, please use 'weights' instead.\n",
            "  warnings.warn(\n",
            "c:\\Users\\sachi\\OneDrive\\Documents\\music-genre-classification-and-recommendation\\venv\\lib\\site-packages\\torchvision\\models\\_utils.py:223: UserWarning: Arguments other than a weight enum or `None` for 'weights' are deprecated since 0.13 and may be removed in the future. The current behavior is equivalent to passing `weights=EfficientNet_B3_Weights.IMAGENET1K_V1`. You can also use `weights=EfficientNet_B3_Weights.DEFAULT` to get the most up-to-date weights.\n",
            "  warnings.warn(msg)\n"
          ]
        }
      ],
      "source": [
        "# ----------------------------\n",
        "# Step 8: Initialize the model\n",
        "# ----------------------------\n",
        "model = MusicEfficientNetB3(num_classes=num_classes, learning_rate=1e-3)"
      ]
    },
    {
      "cell_type": "code",
      "execution_count": 12,
      "metadata": {
        "id": "7kiNRPIbrqeQ"
      },
      "outputs": [
        {
          "name": "stderr",
          "output_type": "stream",
          "text": [
            "c:\\Users\\sachi\\OneDrive\\Documents\\music-genre-classification-and-recommendation\\venv\\lib\\site-packages\\pytorch_lightning\\trainer\\connectors\\accelerator_connector.py:513: You passed `Trainer(accelerator='cpu', precision='16-mixed')` but AMP with fp16 is not supported on CPU. Using `precision='bf16-mixed'` instead.\n",
            "Using bfloat16 Automatic Mixed Precision (AMP)\n",
            "GPU available: False, used: False\n",
            "TPU available: False, using: 0 TPU cores\n",
            "HPU available: False, using: 0 HPUs\n"
          ]
        }
      ],
      "source": [
        "# ----------------------------\n",
        "# Step 9: Configure the Trainer with the CSVLogger\n",
        "# ----------------------------\n",
        "trainer = Trainer(\n",
        "    max_epochs=30,  # More epochs for thorough fine-tuning\n",
        "    accelerator=\"gpu\" if torch.cuda.is_available() else \"cpu\",\n",
        "    devices=1,\n",
        "    precision=\"16-mixed\",  # Mixed precision for faster training on GPU\n",
        "    accumulate_grad_batches=4,\n",
        "    log_every_n_steps=10,\n",
        "    logger=logger,\n",
        "    num_sanity_val_steps=0\n",
        ")"
      ]
    },
    {
      "cell_type": "code",
      "execution_count": 13,
      "metadata": {
        "id": "dTlJFOcprs5p"
      },
      "outputs": [
        {
          "name": "stderr",
          "output_type": "stream",
          "text": [
            "\n",
            "  | Name  | Type         | Params | Mode \n",
            "-----------------------------------------------\n",
            "0 | model | EfficientNet | 10.7 M | train\n",
            "-----------------------------------------------\n",
            "10.7 M    Trainable params\n",
            "0         Non-trainable params\n",
            "10.7 M    Total params\n",
            "42.844    Total estimated model params size (MB)\n",
            "533       Modules in train mode\n",
            "0         Modules in eval mode\n",
            "c:\\Users\\sachi\\OneDrive\\Documents\\music-genre-classification-and-recommendation\\venv\\lib\\site-packages\\pytorch_lightning\\trainer\\connectors\\data_connector.py:425: The 'train_dataloader' does not have many workers which may be a bottleneck. Consider increasing the value of the `num_workers` argument` to `num_workers=11` in the `DataLoader` to improve performance.\n",
            "c:\\Users\\sachi\\OneDrive\\Documents\\music-genre-classification-and-recommendation\\venv\\lib\\site-packages\\pytorch_lightning\\trainer\\connectors\\data_connector.py:425: The 'val_dataloader' does not have many workers which may be a bottleneck. Consider increasing the value of the `num_workers` argument` to `num_workers=11` in the `DataLoader` to improve performance.\n"
          ]
        },
        {
          "data": {
            "application/vnd.jupyter.widget-view+json": {
              "model_id": "d1e29a2acec84f73b04b2f856e6ec1e1",
              "version_major": 2,
              "version_minor": 0
            },
            "text/plain": [
              "Training: |          | 0/? [00:00<?, ?it/s]"
            ]
          },
          "metadata": {},
          "output_type": "display_data"
        },
        {
          "data": {
            "application/vnd.jupyter.widget-view+json": {
              "model_id": "d4b51e839641459babd31a1b519385d8",
              "version_major": 2,
              "version_minor": 0
            },
            "text/plain": [
              "Validation: |          | 0/? [00:00<?, ?it/s]"
            ]
          },
          "metadata": {},
          "output_type": "display_data"
        },
        {
          "name": "stdout",
          "output_type": "stream",
          "text": [
            "Confusion Matrix:\n",
            " [[10  0  2  3  0  0  1  0  0  4]\n",
            " [ 2 16  0  0  0  0  0  0  0  2]\n",
            " [ 0  0 13  0  0  0  0  1  0  6]\n",
            " [ 0  1  1  9  7  0  1  1  0  0]\n",
            " [ 0  0  0  0 19  0  1  0  0  0]\n",
            " [ 1  1  0  0  0 16  0  0  1  1]\n",
            " [ 0  0  0  0  1  0 19  0  0  0]\n",
            " [ 0  0  1  1 12  0  1  2  2  1]\n",
            " [ 0  0  2  3  6  0  0  0  8  1]\n",
            " [ 0  1  2  0  0  1  9  1  1  5]]\n",
            "Logger does not support add_text. Confusion Matrix not logged.\n"
          ]
        },
        {
          "data": {
            "application/vnd.jupyter.widget-view+json": {
              "model_id": "bd3a0fef48af49c4b320158544c09a84",
              "version_major": 2,
              "version_minor": 0
            },
            "text/plain": [
              "Validation: |          | 0/? [00:00<?, ?it/s]"
            ]
          },
          "metadata": {},
          "output_type": "display_data"
        },
        {
          "name": "stdout",
          "output_type": "stream",
          "text": [
            "Confusion Matrix:\n",
            " [[14  1  0  0  0  2  0  0  2  1]\n",
            " [ 0 19  0  0  0  1  0  0  0  0]\n",
            " [ 1  0 15  0  1  1  0  1  0  1]\n",
            " [ 1  0  0  9  1  0  0  7  1  1]\n",
            " [ 0  0  0  0 14  0  0  4  2  0]\n",
            " [ 0  1  0  0  0 18  0  0  0  1]\n",
            " [ 0  0  0  0  0  0 20  0  0  0]\n",
            " [ 0  0  2  0  2  0  0 15  0  1]\n",
            " [ 0  0  1  1  1  0  0  2 14  1]\n",
            " [ 0  0  5  0  0  0  1  4  0 10]]\n",
            "Logger does not support add_text. Confusion Matrix not logged.\n"
          ]
        },
        {
          "data": {
            "application/vnd.jupyter.widget-view+json": {
              "model_id": "4aed27b8bfb54037b7a6780fdd45d9ed",
              "version_major": 2,
              "version_minor": 0
            },
            "text/plain": [
              "Validation: |          | 0/? [00:00<?, ?it/s]"
            ]
          },
          "metadata": {},
          "output_type": "display_data"
        },
        {
          "name": "stdout",
          "output_type": "stream",
          "text": [
            "Confusion Matrix:\n",
            " [[ 9  1  2  0  0  0  0  0  6  2]\n",
            " [ 0 20  0  0  0  0  0  0  0  0]\n",
            " [ 0  0 19  0  0  0  0  0  0  1]\n",
            " [ 0  1  1  6  5  0  1  3  2  1]\n",
            " [ 0  0  0  0 18  0  0  0  1  1]\n",
            " [ 0  1  0  0  0 18  0  1  0  0]\n",
            " [ 0  0  1  0  1  0 16  0  0  2]\n",
            " [ 0  0  3  0  2  0  0 15  0  0]\n",
            " [ 0  0  3  0  2  0  0  1 12  2]\n",
            " [ 0  0  5  0  0  0  1  1  1 12]]\n",
            "Logger does not support add_text. Confusion Matrix not logged.\n"
          ]
        },
        {
          "data": {
            "application/vnd.jupyter.widget-view+json": {
              "model_id": "6cc2e652389f457d84407f1c88d96004",
              "version_major": 2,
              "version_minor": 0
            },
            "text/plain": [
              "Validation: |          | 0/? [00:00<?, ?it/s]"
            ]
          },
          "metadata": {},
          "output_type": "display_data"
        },
        {
          "name": "stdout",
          "output_type": "stream",
          "text": [
            "Confusion Matrix:\n",
            " [[16  1  0  0  0  1  0  0  1  1]\n",
            " [ 0 20  0  0  0  0  0  0  0  0]\n",
            " [ 2  0 17  0  0  0  0  0  0  1]\n",
            " [ 2  0  0  8  5  0  1  3  0  1]\n",
            " [ 0  0  0  0 18  0  0  0  2  0]\n",
            " [ 0  1  0  0  0 17  0  0  0  2]\n",
            " [ 3  0  0  1  1  0 15  0  0  0]\n",
            " [ 0  0  1  0  2  0  0 14  3  0]\n",
            " [ 2  0  2  1  0  0  0  2 12  1]\n",
            " [ 0  0  1  1  0  0  1  3  0 14]]\n",
            "Logger does not support add_text. Confusion Matrix not logged.\n"
          ]
        },
        {
          "data": {
            "application/vnd.jupyter.widget-view+json": {
              "model_id": "1ee129a0a9fa41068dfcc307c923ca8b",
              "version_major": 2,
              "version_minor": 0
            },
            "text/plain": [
              "Validation: |          | 0/? [00:00<?, ?it/s]"
            ]
          },
          "metadata": {},
          "output_type": "display_data"
        },
        {
          "name": "stdout",
          "output_type": "stream",
          "text": [
            "Confusion Matrix:\n",
            " [[15  0  1  1  0  0  0  0  1  2]\n",
            " [ 0 20  0  0  0  0  0  0  0  0]\n",
            " [ 1  0 16  0  0  0  0  0  0  3]\n",
            " [ 2  0  2  7  4  1  1  2  0  1]\n",
            " [ 0  0  0  0 17  0  1  0  1  1]\n",
            " [ 0  1  0  0  0 19  0  0  0  0]\n",
            " [ 2  0  0  0  0  0 17  0  0  1]\n",
            " [ 1  0  3  0  2  0  0 11  1  2]\n",
            " [ 2  0  4  1  0  1  0  2  7  3]\n",
            " [ 0  0  3  0  0  1  1  1  0 14]]\n",
            "Logger does not support add_text. Confusion Matrix not logged.\n"
          ]
        },
        {
          "data": {
            "application/vnd.jupyter.widget-view+json": {
              "model_id": "0e7f90849599473ab0ffb967bb18eecc",
              "version_major": 2,
              "version_minor": 0
            },
            "text/plain": [
              "Validation: |          | 0/? [00:00<?, ?it/s]"
            ]
          },
          "metadata": {},
          "output_type": "display_data"
        },
        {
          "name": "stdout",
          "output_type": "stream",
          "text": [
            "Confusion Matrix:\n",
            " [[11  0  1  2  0  1  0  0  0  5]\n",
            " [ 0 20  0  0  0  0  0  0  0  0]\n",
            " [ 0  0 16  0  0  0  0  1  0  3]\n",
            " [ 1  0  1 15  2  0  1  0  0  0]\n",
            " [ 0  0  0  2 16  0  0  0  1  1]\n",
            " [ 0  1  0  0  0 19  0  0  0  0]\n",
            " [ 0  0  0  0  0  0 18  0  0  2]\n",
            " [ 1  0  0  2  1  0  0 14  1  1]\n",
            " [ 0  0  1  3  0  1  0  1 11  3]\n",
            " [ 0  0  0  1  0  0  1  4  0 14]]\n",
            "Logger does not support add_text. Confusion Matrix not logged.\n"
          ]
        },
        {
          "data": {
            "application/vnd.jupyter.widget-view+json": {
              "model_id": "b26e56b052184ca8b14f9ef2c9b8354e",
              "version_major": 2,
              "version_minor": 0
            },
            "text/plain": [
              "Validation: |          | 0/? [00:00<?, ?it/s]"
            ]
          },
          "metadata": {},
          "output_type": "display_data"
        },
        {
          "name": "stdout",
          "output_type": "stream",
          "text": [
            "Confusion Matrix:\n",
            " [[13  0  1  2  0  1  0  0  2  1]\n",
            " [ 0 20  0  0  0  0  0  0  0  0]\n",
            " [ 1  0 16  1  0  1  0  0  0  1]\n",
            " [ 1  0  3 14  1  0  0  0  1  0]\n",
            " [ 0  0  0  0 18  0  0  0  2  0]\n",
            " [ 0  1  0  1  0 16  0  1  0  1]\n",
            " [ 0  0  0  3  1  0 16  0  0  0]\n",
            " [ 0  0  2  1  3  0  0 12  1  1]\n",
            " [ 1  0  1  1  0  0  0  2 15  0]\n",
            " [ 0  0  1  3  0  0  2  2  1 11]]\n",
            "Logger does not support add_text. Confusion Matrix not logged.\n"
          ]
        },
        {
          "data": {
            "application/vnd.jupyter.widget-view+json": {
              "model_id": "3c7636be938246c8bdcb80ce551d95e3",
              "version_major": 2,
              "version_minor": 0
            },
            "text/plain": [
              "Validation: |          | 0/? [00:00<?, ?it/s]"
            ]
          },
          "metadata": {},
          "output_type": "display_data"
        },
        {
          "name": "stdout",
          "output_type": "stream",
          "text": [
            "Confusion Matrix:\n",
            " [[13  1  2  1  0  1  0  0  0  2]\n",
            " [ 0 20  0  0  0  0  0  0  0  0]\n",
            " [ 0  0 17  0  0  0  0  1  0  2]\n",
            " [ 1  0  0 15  3  0  0  0  0  1]\n",
            " [ 0  0  0  0 19  0  1  0  0  0]\n",
            " [ 0  1  0  0  0 18  0  0  0  1]\n",
            " [ 0  0  0  1  0  0 19  0  0  0]\n",
            " [ 0  0  2  2  1  1  0 12  0  2]\n",
            " [ 1  0  2  1  0  1  0  2 13  0]\n",
            " [ 0  0  3  0  0  0  3  1  0 13]]\n",
            "Logger does not support add_text. Confusion Matrix not logged.\n"
          ]
        },
        {
          "data": {
            "application/vnd.jupyter.widget-view+json": {
              "model_id": "ebc4701b510a4e9faf3ab98a9b2bb0d7",
              "version_major": 2,
              "version_minor": 0
            },
            "text/plain": [
              "Validation: |          | 0/? [00:00<?, ?it/s]"
            ]
          },
          "metadata": {},
          "output_type": "display_data"
        },
        {
          "name": "stdout",
          "output_type": "stream",
          "text": [
            "Confusion Matrix:\n",
            " [[19  0  0  0  0  0  0  0  1  0]\n",
            " [ 0 20  0  0  0  0  0  0  0  0]\n",
            " [ 0  0 18  0  0  0  0  0  1  1]\n",
            " [ 1  0  1 12  5  0  1  0  0  0]\n",
            " [ 0  0  0  0 19  0  0  0  1  0]\n",
            " [ 0  1  0  0  0 17  0  0  0  2]\n",
            " [ 1  0  0  0  2  0 16  0  0  1]\n",
            " [ 0  0  1  1  2  0  0 14  1  1]\n",
            " [ 3  0  2  2  1  0  0  0 12  0]\n",
            " [ 0  0  2  0  0  1  1  1  0 15]]\n",
            "Logger does not support add_text. Confusion Matrix not logged.\n"
          ]
        },
        {
          "data": {
            "application/vnd.jupyter.widget-view+json": {
              "model_id": "f4f35f08e67b486bbbf0e7d55ed74b7e",
              "version_major": 2,
              "version_minor": 0
            },
            "text/plain": [
              "Validation: |          | 0/? [00:00<?, ?it/s]"
            ]
          },
          "metadata": {},
          "output_type": "display_data"
        },
        {
          "name": "stdout",
          "output_type": "stream",
          "text": [
            "Confusion Matrix:\n",
            " [[13  0  1  1  0  2  0  0  2  1]\n",
            " [ 0 17  3  0  0  0  0  0  0  0]\n",
            " [ 0  0 18  0  0  0  0  0  0  2]\n",
            " [ 0  0  1 13  2  0  0  2  0  2]\n",
            " [ 0  0  0  1 15  0  2  0  2  0]\n",
            " [ 1  1  0  0  0 16  0  0  0  2]\n",
            " [ 0  0  0  1  0  1 16  1  0  1]\n",
            " [ 0  0  1  2  2  0  0 12  1  2]\n",
            " [ 0  0  2  3  1  1  0  0 12  1]\n",
            " [ 0  0  2  1  0  1  2  1  0 13]]\n",
            "Logger does not support add_text. Confusion Matrix not logged.\n"
          ]
        },
        {
          "data": {
            "application/vnd.jupyter.widget-view+json": {
              "model_id": "5c2a9c00aaed407b83ab5bb98c576d78",
              "version_major": 2,
              "version_minor": 0
            },
            "text/plain": [
              "Validation: |          | 0/? [00:00<?, ?it/s]"
            ]
          },
          "metadata": {},
          "output_type": "display_data"
        },
        {
          "name": "stdout",
          "output_type": "stream",
          "text": [
            "Confusion Matrix:\n",
            " [[14  0  1  0  0  0  2  0  0  3]\n",
            " [ 0 20  0  0  0  0  0  0  0  0]\n",
            " [ 0  0 18  0  0  0  0  0  1  1]\n",
            " [ 0  0  2 13  3  0  0  1  0  1]\n",
            " [ 1  0  0  0 17  0  2  0  0  0]\n",
            " [ 1  1  0  0  0 16  0  0  0  2]\n",
            " [ 1  0  0  0  0  0 18  0  0  1]\n",
            " [ 0  0  2  1  2  0  0 11  1  3]\n",
            " [ 1  0  2  1  0  1  1  1  9  4]\n",
            " [ 0  0  2  0  0  0  2  1  0 15]]\n",
            "Logger does not support add_text. Confusion Matrix not logged.\n"
          ]
        },
        {
          "data": {
            "application/vnd.jupyter.widget-view+json": {
              "model_id": "21a7c394ff9a4c16a6a1602b29aff8ae",
              "version_major": 2,
              "version_minor": 0
            },
            "text/plain": [
              "Validation: |          | 0/? [00:00<?, ?it/s]"
            ]
          },
          "metadata": {},
          "output_type": "display_data"
        },
        {
          "name": "stdout",
          "output_type": "stream",
          "text": [
            "Confusion Matrix:\n",
            " [[14  0  0  1  0  0  0  0  1  4]\n",
            " [ 0 20  0  0  0  0  0  0  0  0]\n",
            " [ 0  0 17  0  0  0  0  0  0  3]\n",
            " [ 0  1  1 11  6  0  0  1  0  0]\n",
            " [ 0  0  0  0 20  0  0  0  0  0]\n",
            " [ 0  1  0  0  0 17  0  0  0  2]\n",
            " [ 0  0  0  1  3  0 14  1  0  1]\n",
            " [ 0  0  1  0  2  0  0 15  1  1]\n",
            " [ 0  0  2  2  0  1  1  2 10  2]\n",
            " [ 0  0  0  0  2  0  0  3  0 15]]\n",
            "Logger does not support add_text. Confusion Matrix not logged.\n"
          ]
        },
        {
          "data": {
            "application/vnd.jupyter.widget-view+json": {
              "model_id": "23b8aad6729841159451492e32262c08",
              "version_major": 2,
              "version_minor": 0
            },
            "text/plain": [
              "Validation: |          | 0/? [00:00<?, ?it/s]"
            ]
          },
          "metadata": {},
          "output_type": "display_data"
        },
        {
          "name": "stdout",
          "output_type": "stream",
          "text": [
            "Confusion Matrix:\n",
            " [[15  1  1  0  0  0  0  0  2  1]\n",
            " [ 0 20  0  0  0  0  0  0  0  0]\n",
            " [ 0  0 17  0  0  0  0  0  1  2]\n",
            " [ 1  0  1 10  5  0  1  1  1  0]\n",
            " [ 0  0  0  0 18  0  0  0  2  0]\n",
            " [ 0  1  0  0  0 18  0  0  0  1]\n",
            " [ 2  0  0  0  3  0 14  0  0  1]\n",
            " [ 0  0  0  1  5  0  0 11  1  2]\n",
            " [ 0  0  2  2  1  1  0  0 14  0]\n",
            " [ 0  0  0  0  0  0  2  1  1 16]]\n",
            "Logger does not support add_text. Confusion Matrix not logged.\n"
          ]
        },
        {
          "data": {
            "application/vnd.jupyter.widget-view+json": {
              "model_id": "d565a8c3658f4491a37820f6f7c7be2c",
              "version_major": 2,
              "version_minor": 0
            },
            "text/plain": [
              "Validation: |          | 0/? [00:00<?, ?it/s]"
            ]
          },
          "metadata": {},
          "output_type": "display_data"
        },
        {
          "name": "stdout",
          "output_type": "stream",
          "text": [
            "Confusion Matrix:\n",
            " [[13  1  1  0  1  1  0  0  1  2]\n",
            " [ 0 20  0  0  0  0  0  0  0  0]\n",
            " [ 0  0 17  0  0  1  0  0  0  2]\n",
            " [ 0  0  1 12  3  1  0  2  0  1]\n",
            " [ 0  0  0  0 18  0  0  1  1  0]\n",
            " [ 0  1  0  0  0 18  0  0  0  1]\n",
            " [ 2  0  0  0  1  0 15  0  0  2]\n",
            " [ 0  0  0  1  3  0  0 15  0  1]\n",
            " [ 1  0  2  1  0  1  0  1 13  1]\n",
            " [ 0  0  0  0  0  0  1  4  0 15]]\n",
            "Logger does not support add_text. Confusion Matrix not logged.\n"
          ]
        },
        {
          "data": {
            "application/vnd.jupyter.widget-view+json": {
              "model_id": "f877c6a707ea464ba2d718e2e8329106",
              "version_major": 2,
              "version_minor": 0
            },
            "text/plain": [
              "Validation: |          | 0/? [00:00<?, ?it/s]"
            ]
          },
          "metadata": {},
          "output_type": "display_data"
        },
        {
          "name": "stdout",
          "output_type": "stream",
          "text": [
            "Confusion Matrix:\n",
            " [[15  1  1  0  0  0  0  0  2  1]\n",
            " [ 0 20  0  0  0  0  0  0  0  0]\n",
            " [ 0  0 19  0  0  0  0  0  0  1]\n",
            " [ 1  0  1 14  2  0  0  1  0  1]\n",
            " [ 0  0  0  0 19  0  0  0  1  0]\n",
            " [ 0  1  0  0  0 17  0  0  0  2]\n",
            " [ 2  0  0  0  1  0 15  0  0  2]\n",
            " [ 0  0  2  2  2  0  0 11  1  2]\n",
            " [ 1  0  2  1  0  1  0  1 13  1]\n",
            " [ 0  1  3  0  0  0  1  1  0 14]]\n",
            "Logger does not support add_text. Confusion Matrix not logged.\n"
          ]
        },
        {
          "data": {
            "application/vnd.jupyter.widget-view+json": {
              "model_id": "1fb808c759c24a218f525ec6413ec4a4",
              "version_major": 2,
              "version_minor": 0
            },
            "text/plain": [
              "Validation: |          | 0/? [00:00<?, ?it/s]"
            ]
          },
          "metadata": {},
          "output_type": "display_data"
        },
        {
          "name": "stdout",
          "output_type": "stream",
          "text": [
            "Confusion Matrix:\n",
            " [[14  0  1  1  0  1  0  0  1  2]\n",
            " [ 0 20  0  0  0  0  0  0  0  0]\n",
            " [ 0  0 17  0  0  1  0  0  0  2]\n",
            " [ 1  0  1 12  3  0  0  2  0  1]\n",
            " [ 0  0  0  0 19  0  0  0  1  0]\n",
            " [ 0  1  0  0  0 18  0  0  0  1]\n",
            " [ 0  0  0  0  1  0 18  0  0  1]\n",
            " [ 0  0  1  2  2  0  0 12  1  2]\n",
            " [ 0  0  2  2  0  0  0  1 13  2]\n",
            " [ 0  0  2  0  0  0  2  2  0 14]]\n",
            "Logger does not support add_text. Confusion Matrix not logged.\n"
          ]
        },
        {
          "data": {
            "application/vnd.jupyter.widget-view+json": {
              "model_id": "c0456336e38e4f7c88dcabb6889bcdfa",
              "version_major": 2,
              "version_minor": 0
            },
            "text/plain": [
              "Validation: |          | 0/? [00:00<?, ?it/s]"
            ]
          },
          "metadata": {},
          "output_type": "display_data"
        },
        {
          "name": "stdout",
          "output_type": "stream",
          "text": [
            "Confusion Matrix:\n",
            " [[14  0  1  0  1  0  0  0  1  3]\n",
            " [ 0 20  0  0  0  0  0  0  0  0]\n",
            " [ 0  0 17  0  0  1  0  0  0  2]\n",
            " [ 1  0  1 12  3  0  0  2  0  1]\n",
            " [ 0  0  0  0 18  0  0  0  2  0]\n",
            " [ 0  1  0  0  0 18  0  0  0  1]\n",
            " [ 2  0  0  0  1  0 16  0  0  1]\n",
            " [ 0  0  1  1  2  0  0 14  1  1]\n",
            " [ 1  0  1  1  1  1  0  0 14  1]\n",
            " [ 0  0  2  0  0  0  0  2  0 16]]\n",
            "Logger does not support add_text. Confusion Matrix not logged.\n"
          ]
        },
        {
          "data": {
            "application/vnd.jupyter.widget-view+json": {
              "model_id": "eb5e86b9929443e1b18115da1571ef8f",
              "version_major": 2,
              "version_minor": 0
            },
            "text/plain": [
              "Validation: |          | 0/? [00:00<?, ?it/s]"
            ]
          },
          "metadata": {},
          "output_type": "display_data"
        },
        {
          "name": "stdout",
          "output_type": "stream",
          "text": [
            "Confusion Matrix:\n",
            " [[15  0  1  1  0  0  0  0  1  2]\n",
            " [ 0 20  0  0  0  0  0  0  0  0]\n",
            " [ 0  0 18  0  0  1  0  0  0  1]\n",
            " [ 1  0  1 13  2  0  0  2  0  1]\n",
            " [ 0  0  0  0 19  0  0  0  1  0]\n",
            " [ 0  1  0  0  0 18  0  0  0  1]\n",
            " [ 2  0  0  0  1  0 16  0  0  1]\n",
            " [ 0  0  1  2  1  1  0 12  0  3]\n",
            " [ 1  0  1  3  1  1  0  0 12  1]\n",
            " [ 0  0  2  0  0  0  0  2  0 16]]\n",
            "Logger does not support add_text. Confusion Matrix not logged.\n"
          ]
        },
        {
          "data": {
            "application/vnd.jupyter.widget-view+json": {
              "model_id": "91c2946ff79e423e83bc6ecb0ce47938",
              "version_major": 2,
              "version_minor": 0
            },
            "text/plain": [
              "Validation: |          | 0/? [00:00<?, ?it/s]"
            ]
          },
          "metadata": {},
          "output_type": "display_data"
        },
        {
          "name": "stdout",
          "output_type": "stream",
          "text": [
            "Confusion Matrix:\n",
            " [[15  0  1  0  0  0  0  0  2  2]\n",
            " [ 0 20  0  0  0  0  0  0  0  0]\n",
            " [ 0  0 17  0  0  0  1  0  1  1]\n",
            " [ 1  0  1 11  3  0  1  2  0  1]\n",
            " [ 0  0  0  0 19  0  0  0  1  0]\n",
            " [ 0  1  0  0  0 18  0  0  0  1]\n",
            " [ 0  0  0  0  1  0 18  0  0  1]\n",
            " [ 0  0  1  1  2  0  0 13  1  2]\n",
            " [ 1  0  2  2  1  1  0  0 12  1]\n",
            " [ 0  0  2  0  0  0  2  2  0 14]]\n",
            "Logger does not support add_text. Confusion Matrix not logged.\n"
          ]
        },
        {
          "data": {
            "application/vnd.jupyter.widget-view+json": {
              "model_id": "83ef327859ab4a778d079be16797fe62",
              "version_major": 2,
              "version_minor": 0
            },
            "text/plain": [
              "Validation: |          | 0/? [00:00<?, ?it/s]"
            ]
          },
          "metadata": {},
          "output_type": "display_data"
        },
        {
          "name": "stdout",
          "output_type": "stream",
          "text": [
            "Confusion Matrix:\n",
            " [[13  0  1  1  1  0  1  0  2  1]\n",
            " [ 0 20  0  0  0  0  0  0  0  0]\n",
            " [ 0  0 17  0  0  0  1  0  1  1]\n",
            " [ 1  0  1 11  4  0  1  2  0  0]\n",
            " [ 0  0  0  0 19  0  0  0  1  0]\n",
            " [ 0  1  0  0  0 17  1  0  0  1]\n",
            " [ 0  0  0  0  0  0 19  0  0  1]\n",
            " [ 0  0  1  0  2  0  0 16  0  1]\n",
            " [ 0  0  1  2  1  1  0  0 14  1]\n",
            " [ 0  0  2  0  0  0  2  3  0 13]]\n",
            "Logger does not support add_text. Confusion Matrix not logged.\n"
          ]
        },
        {
          "data": {
            "application/vnd.jupyter.widget-view+json": {
              "model_id": "ed3f24bd47d94cd4a61e3887471f77f7",
              "version_major": 2,
              "version_minor": 0
            },
            "text/plain": [
              "Validation: |          | 0/? [00:00<?, ?it/s]"
            ]
          },
          "metadata": {},
          "output_type": "display_data"
        },
        {
          "name": "stdout",
          "output_type": "stream",
          "text": [
            "Confusion Matrix:\n",
            " [[15  1  1  0  0  0  0  0  2  1]\n",
            " [ 0 20  0  0  0  0  0  0  0  0]\n",
            " [ 0  0 17  0  0  0  1  0  1  1]\n",
            " [ 1  0  1 11  3  0  1  2  0  1]\n",
            " [ 0  0  0  0 18  0  0  1  1  0]\n",
            " [ 0  1  0  0  0 17  0  0  0  2]\n",
            " [ 1  0  0  0  1  0 17  0  0  1]\n",
            " [ 0  0  1  0  2  0  0 15  0  2]\n",
            " [ 0  0  1  2  0  1  0  1 14  1]\n",
            " [ 0  0  2  0  0  0  0  2  0 16]]\n",
            "Logger does not support add_text. Confusion Matrix not logged.\n"
          ]
        },
        {
          "data": {
            "application/vnd.jupyter.widget-view+json": {
              "model_id": "bb5def8f3b454ba289045fb061e10124",
              "version_major": 2,
              "version_minor": 0
            },
            "text/plain": [
              "Validation: |          | 0/? [00:00<?, ?it/s]"
            ]
          },
          "metadata": {},
          "output_type": "display_data"
        },
        {
          "name": "stdout",
          "output_type": "stream",
          "text": [
            "Confusion Matrix:\n",
            " [[15  1  1  0  0  0  0  0  2  1]\n",
            " [ 0 20  0  0  0  0  0  0  0  0]\n",
            " [ 0  0 17  0  0  0  1  0  1  1]\n",
            " [ 1  0  1 11  3  0  1  2  0  1]\n",
            " [ 0  0  0  0 19  0  0  0  1  0]\n",
            " [ 0  1  0  0  0 18  0  0  0  1]\n",
            " [ 0  0  0  0  0  0 19  0  0  1]\n",
            " [ 0  0  1  0  2  0  0 14  1  2]\n",
            " [ 0  0  2  1  0  1  0  1 14  1]\n",
            " [ 0  0  2  0  0  0  1  2  0 15]]\n",
            "Logger does not support add_text. Confusion Matrix not logged.\n"
          ]
        },
        {
          "data": {
            "application/vnd.jupyter.widget-view+json": {
              "model_id": "ed6f44a5e35340dea23c5efc366e70fa",
              "version_major": 2,
              "version_minor": 0
            },
            "text/plain": [
              "Validation: |          | 0/? [00:00<?, ?it/s]"
            ]
          },
          "metadata": {},
          "output_type": "display_data"
        },
        {
          "name": "stdout",
          "output_type": "stream",
          "text": [
            "Confusion Matrix:\n",
            " [[15  1  1  0  0  0  0  0  2  1]\n",
            " [ 0 20  0  0  0  0  0  0  0  0]\n",
            " [ 0  0 17  0  0  0  1  0  1  1]\n",
            " [ 1  0  1 10  4  0  2  2  0  0]\n",
            " [ 0  0  0  0 19  0  0  0  1  0]\n",
            " [ 0  1  0  0  0 18  0  0  0  1]\n",
            " [ 0  0  0  0  0  0 19  0  0  1]\n",
            " [ 0  0  1  0  2  0  0 14  1  2]\n",
            " [ 0  0  2  1  0  1  0  1 14  1]\n",
            " [ 0  0  2  0  0  0  1  2  0 15]]\n",
            "Logger does not support add_text. Confusion Matrix not logged.\n"
          ]
        },
        {
          "data": {
            "application/vnd.jupyter.widget-view+json": {
              "model_id": "3a63c15815cd4fa09f20c1a7a5916212",
              "version_major": 2,
              "version_minor": 0
            },
            "text/plain": [
              "Validation: |          | 0/? [00:00<?, ?it/s]"
            ]
          },
          "metadata": {},
          "output_type": "display_data"
        },
        {
          "name": "stdout",
          "output_type": "stream",
          "text": [
            "Confusion Matrix:\n",
            " [[14  0  1  0  0  0  1  0  2  2]\n",
            " [ 0 20  0  0  0  0  0  0  0  0]\n",
            " [ 0  0 17  0  0  0  1  0  1  1]\n",
            " [ 1  0  1 10  3  0  2  2  0  1]\n",
            " [ 0  0  0  0 19  0  0  0  1  0]\n",
            " [ 0  1  0  0  0 17  0  0  0  2]\n",
            " [ 0  0  0  0  0  0 19  0  0  1]\n",
            " [ 0  0  1  0  2  0  0 14  1  2]\n",
            " [ 0  0  2  1  0  1  0  1 14  1]\n",
            " [ 0  0  2  0  0  0  1  2  0 15]]\n",
            "Logger does not support add_text. Confusion Matrix not logged.\n"
          ]
        },
        {
          "data": {
            "application/vnd.jupyter.widget-view+json": {
              "model_id": "fb8a12c2e72948ec851d9f35a5405b6f",
              "version_major": 2,
              "version_minor": 0
            },
            "text/plain": [
              "Validation: |          | 0/? [00:00<?, ?it/s]"
            ]
          },
          "metadata": {},
          "output_type": "display_data"
        },
        {
          "name": "stdout",
          "output_type": "stream",
          "text": [
            "Confusion Matrix:\n",
            " [[15  0  1  0  0  0  0  0  2  2]\n",
            " [ 0 20  0  0  0  0  0  0  0  0]\n",
            " [ 0  0 20  0  0  0  0  0  0  0]\n",
            " [ 1  0  1 10  4  0  2  2  0  0]\n",
            " [ 0  0  0  0 19  0  0  0  1  0]\n",
            " [ 0  1  0  0  0 18  0  0  0  1]\n",
            " [ 0  0  0  0  1  0 18  0  0  1]\n",
            " [ 0  0  1  0  3  0  0 13  1  2]\n",
            " [ 0  0  2  1  1  1  0  0 14  1]\n",
            " [ 0  0  3  0  0  0  1  2  0 14]]\n",
            "Logger does not support add_text. Confusion Matrix not logged.\n"
          ]
        },
        {
          "data": {
            "application/vnd.jupyter.widget-view+json": {
              "model_id": "b74a7ff0553748de81fbe98fcd3f4905",
              "version_major": 2,
              "version_minor": 0
            },
            "text/plain": [
              "Validation: |          | 0/? [00:00<?, ?it/s]"
            ]
          },
          "metadata": {},
          "output_type": "display_data"
        },
        {
          "name": "stdout",
          "output_type": "stream",
          "text": [
            "Confusion Matrix:\n",
            " [[14  1  1  0  0  1  0  0  2  1]\n",
            " [ 0 20  0  0  0  0  0  0  0  0]\n",
            " [ 0  0 17  0  0  1  0  0  1  1]\n",
            " [ 1  0  1 13  3  0  0  1  0  1]\n",
            " [ 0  0  0  0 19  0  0  0  1  0]\n",
            " [ 0  1  0  0  0 19  0  0  0  0]\n",
            " [ 1  0  0  0  1  0 17  0  0  1]\n",
            " [ 0  0  1  0  3  0  0 12  2  2]\n",
            " [ 0  0  1  1  1  1  0  0 15  1]\n",
            " [ 0  0  2  0  0  0  0  1  0 17]]\n",
            "Logger does not support add_text. Confusion Matrix not logged.\n"
          ]
        },
        {
          "data": {
            "application/vnd.jupyter.widget-view+json": {
              "model_id": "a3fde4724650497eb74b75fe1649d453",
              "version_major": 2,
              "version_minor": 0
            },
            "text/plain": [
              "Validation: |          | 0/? [00:00<?, ?it/s]"
            ]
          },
          "metadata": {},
          "output_type": "display_data"
        },
        {
          "name": "stdout",
          "output_type": "stream",
          "text": [
            "Confusion Matrix:\n",
            " [[14  1  1  0  0  1  0  0  2  1]\n",
            " [ 0 20  0  0  0  0  0  0  0  0]\n",
            " [ 0  0 17  0  0  1  0  0  1  1]\n",
            " [ 1  0  1 11  3  0  1  2  0  1]\n",
            " [ 0  0  0  0 19  0  0  0  1  0]\n",
            " [ 0  1  0  0  0 19  0  0  0  0]\n",
            " [ 0  0  0  0  1  0 18  0  0  1]\n",
            " [ 0  0  1  0  3  0  0 13  1  2]\n",
            " [ 0  0  1  1  1  1  0  0 14  2]\n",
            " [ 0  0  2  0  0  0  0  1  0 17]]\n",
            "Logger does not support add_text. Confusion Matrix not logged.\n"
          ]
        },
        {
          "data": {
            "application/vnd.jupyter.widget-view+json": {
              "model_id": "2582943e84ce47539699447b37ba3114",
              "version_major": 2,
              "version_minor": 0
            },
            "text/plain": [
              "Validation: |          | 0/? [00:00<?, ?it/s]"
            ]
          },
          "metadata": {},
          "output_type": "display_data"
        },
        {
          "name": "stdout",
          "output_type": "stream",
          "text": [
            "Confusion Matrix:\n",
            " [[14  1  1  0  0  1  0  0  2  1]\n",
            " [ 0 20  0  0  0  0  0  0  0  0]\n",
            " [ 0  0 18  0  0  0  1  0  0  1]\n",
            " [ 1  0  1 11  3  0  1  2  0  1]\n",
            " [ 0  0  0  0 19  0  0  0  1  0]\n",
            " [ 0  1  0  0  0 18  0  0  0  1]\n",
            " [ 0  0  0  0  1  0 18  0  0  1]\n",
            " [ 0  0  1  0  3  0  0 13  1  2]\n",
            " [ 0  0  1  1  1  1  0  0 14  2]\n",
            " [ 0  0  2  0  0  0  0  2  0 16]]\n",
            "Logger does not support add_text. Confusion Matrix not logged.\n"
          ]
        },
        {
          "data": {
            "application/vnd.jupyter.widget-view+json": {
              "model_id": "74e462ce3b72411bab82ff709c48cae4",
              "version_major": 2,
              "version_minor": 0
            },
            "text/plain": [
              "Validation: |          | 0/? [00:00<?, ?it/s]"
            ]
          },
          "metadata": {},
          "output_type": "display_data"
        },
        {
          "name": "stdout",
          "output_type": "stream",
          "text": [
            "Confusion Matrix:\n",
            " [[16  1  1  0  0  0  0  0  1  1]\n",
            " [ 0 20  0  0  0  0  0  0  0  0]\n",
            " [ 0  0 17  0  0  0  1  0  1  1]\n",
            " [ 1  0  1 12  3  0  2  1  0  0]\n",
            " [ 0  0  0  0 19  0  0  0  1  0]\n",
            " [ 0  1  0  0  0 18  0  0  0  1]\n",
            " [ 0  0  0  0  0  0 19  0  0  1]\n",
            " [ 0  0  1  1  3  0  0 12  1  2]\n",
            " [ 0  0  1  1  1  1  0  0 15  1]\n",
            " [ 0  0  2  0  0  0  2  2  0 14]]\n",
            "Logger does not support add_text. Confusion Matrix not logged.\n"
          ]
        },
        {
          "data": {
            "application/vnd.jupyter.widget-view+json": {
              "model_id": "e08feece0c2c4c519572635057cd5212",
              "version_major": 2,
              "version_minor": 0
            },
            "text/plain": [
              "Validation: |          | 0/? [00:00<?, ?it/s]"
            ]
          },
          "metadata": {},
          "output_type": "display_data"
        },
        {
          "name": "stdout",
          "output_type": "stream",
          "text": [
            "Confusion Matrix:\n",
            " [[15  0  1  0  0  0  0  0  2  2]\n",
            " [ 0 20  0  0  0  0  0  0  0  0]\n",
            " [ 0  0 17  0  0  0  1  0  1  1]\n",
            " [ 1  0  1 12  3  0  1  2  0  0]\n",
            " [ 0  0  0  0 18  0  0  1  1  0]\n",
            " [ 0  1  0  0  0 18  0  0  0  1]\n",
            " [ 0  0  0  0  0  0 19  0  0  1]\n",
            " [ 0  0  1  0  1  0  0 15  1  2]\n",
            " [ 0  0  1  1  0  1  0  1 15  1]\n",
            " [ 0  0  2  0  0  0  1  2  0 15]]\n",
            "Logger does not support add_text. Confusion Matrix not logged.\n"
          ]
        },
        {
          "name": "stderr",
          "output_type": "stream",
          "text": [
            "`Trainer.fit` stopped: `max_epochs=30` reached.\n",
            "c:\\Users\\sachi\\OneDrive\\Documents\\music-genre-classification-and-recommendation\\venv\\lib\\site-packages\\pytorch_lightning\\trainer\\connectors\\data_connector.py:425: The 'val_dataloader' does not have many workers which may be a bottleneck. Consider increasing the value of the `num_workers` argument` to `num_workers=11` in the `DataLoader` to improve performance.\n"
          ]
        },
        {
          "data": {
            "application/vnd.jupyter.widget-view+json": {
              "model_id": "c5e589d99cfb404f94feea967533c784",
              "version_major": 2,
              "version_minor": 0
            },
            "text/plain": [
              "Validation: |          | 0/? [00:00<?, ?it/s]"
            ]
          },
          "metadata": {},
          "output_type": "display_data"
        },
        {
          "name": "stdout",
          "output_type": "stream",
          "text": [
            "Confusion Matrix:\n",
            " [[15  0  1  0  0  0  0  0  2  2]\n",
            " [ 0 20  0  0  0  0  0  0  0  0]\n",
            " [ 0  0 17  0  0  0  1  0  1  1]\n",
            " [ 1  0  1 12  3  0  1  2  0  0]\n",
            " [ 0  0  0  0 18  0  0  1  1  0]\n",
            " [ 0  1  0  0  0 18  0  0  0  1]\n",
            " [ 0  0  0  0  0  0 19  0  0  1]\n",
            " [ 0  0  1  0  1  0  0 15  1  2]\n",
            " [ 0  0  1  1  0  1  0  1 15  1]\n",
            " [ 0  0  2  0  0  0  1  2  0 15]]\n",
            "Logger does not support add_text. Confusion Matrix not logged.\n"
          ]
        },
        {
          "data": {
            "text/html": [
              "<pre style=\"white-space:pre;overflow-x:auto;line-height:normal;font-family:Menlo,'DejaVu Sans Mono',consolas,'Courier New',monospace\">┏━━━━━━━━━━━━━━━━━━━━━━━━━━━┳━━━━━━━━━━━━━━━━━━━━━━━━━━━┓\n",
              "┃<span style=\"font-weight: bold\">      Validate metric      </span>┃<span style=\"font-weight: bold\">       DataLoader 0        </span>┃\n",
              "┡━━━━━━━━━━━━━━━━━━━━━━━━━━━╇━━━━━━━━━━━━━━━━━━━━━━━━━━━┩\n",
              "│<span style=\"color: #008080; text-decoration-color: #008080\">          val_acc          </span>│<span style=\"color: #800080; text-decoration-color: #800080\">    0.8199999928474426     </span>│\n",
              "│<span style=\"color: #008080; text-decoration-color: #008080\">         val_loss          </span>│<span style=\"color: #800080; text-decoration-color: #800080\">    0.7486379146575928     </span>│\n",
              "└───────────────────────────┴───────────────────────────┘\n",
              "</pre>\n"
            ],
            "text/plain": [
              "┏━━━━━━━━━━━━━━━━━━━━━━━━━━━┳━━━━━━━━━━━━━━━━━━━━━━━━━━━┓\n",
              "┃\u001b[1m \u001b[0m\u001b[1m     Validate metric     \u001b[0m\u001b[1m \u001b[0m┃\u001b[1m \u001b[0m\u001b[1m      DataLoader 0       \u001b[0m\u001b[1m \u001b[0m┃\n",
              "┡━━━━━━━━━━━━━━━━━━━━━━━━━━━╇━━━━━━━━━━━━━━━━━━━━━━━━━━━┩\n",
              "│\u001b[36m \u001b[0m\u001b[36m         val_acc         \u001b[0m\u001b[36m \u001b[0m│\u001b[35m \u001b[0m\u001b[35m   0.8199999928474426    \u001b[0m\u001b[35m \u001b[0m│\n",
              "│\u001b[36m \u001b[0m\u001b[36m        val_loss         \u001b[0m\u001b[36m \u001b[0m│\u001b[35m \u001b[0m\u001b[35m   0.7486379146575928    \u001b[0m\u001b[35m \u001b[0m│\n",
              "└───────────────────────────┴───────────────────────────┘\n"
            ]
          },
          "metadata": {},
          "output_type": "display_data"
        },
        {
          "name": "stdout",
          "output_type": "stream",
          "text": [
            "Validation results: [{'val_loss': 0.7486379146575928, 'val_acc': 0.8199999928474426}]\n"
          ]
        }
      ],
      "source": [
        "# ----------------------------\n",
        "# Step 10: Train and validate the model\n",
        "# ----------------------------\n",
        "trainer.fit(model, train_loader, val_loader)\n",
        "results = trainer.validate(model, dataloaders=val_loader)\n",
        "print(\"Validation results:\", results)"
      ]
    }
  ],
  "metadata": {
    "accelerator": "GPU",
    "colab": {
      "gpuType": "T4",
      "provenance": []
    },
    "kernelspec": {
      "display_name": "venv",
      "language": "python",
      "name": "python3"
    },
    "language_info": {
      "codemirror_mode": {
        "name": "ipython",
        "version": 3
      },
      "file_extension": ".py",
      "mimetype": "text/x-python",
      "name": "python",
      "nbconvert_exporter": "python",
      "pygments_lexer": "ipython3",
      "version": "3.10.1"
    }
  },
  "nbformat": 4,
  "nbformat_minor": 0
}
